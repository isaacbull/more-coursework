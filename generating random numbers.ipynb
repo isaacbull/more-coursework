{
 "cells": [
  {
   "cell_type": "markdown",
   "id": "139747b6-cd6f-4f57-b028-a785b5c1f476",
   "metadata": {},
   "source": [
    "### Generating random numbers using the pseudorandom number generator technique \n",
    "\n",
    "PRNGs start with a random number, known as the seed, and then use an algorithm to generate a psuedo-random sequence based on it.\n",
    "\n",
    "This means that we can replicate the output of a random number generator in python simply by knowing which seed was used.\n",
    "\n",
    "We can showcase this by using the functions in the python library *__random__*.\n",
    "\n",
    "### Setting a Seed and Generating Random Numbers"
   ]
  },
  {
   "cell_type": "code",
   "execution_count": 1,
   "id": "0e379781-0fbe-4e65-a8f2-cc857f743866",
   "metadata": {},
   "outputs": [],
   "source": [
    "import random"
   ]
  },
  {
   "cell_type": "code",
   "execution_count": 3,
   "id": "900baff1-8818-40cb-936c-dc40f10485db",
   "metadata": {},
   "outputs": [
    {
     "data": {
      "text/plain": [
       "0.9664535356921388"
      ]
     },
     "execution_count": 3,
     "metadata": {},
     "output_type": "execute_result"
    }
   ],
   "source": [
    "random.seed(1234)\n",
    "\n",
    "random.random()"
   ]
  },
  {
   "cell_type": "code",
   "execution_count": 4,
   "id": "1d005d8f-0c26-4b88-ac3a-b6e1763f56e6",
   "metadata": {},
   "outputs": [
    {
     "data": {
      "text/plain": [
       "0.9664535356921388"
      ]
     },
     "execution_count": 4,
     "metadata": {},
     "output_type": "execute_result"
    }
   ],
   "source": [
    "random.seed(1234)\n",
    "\n",
    "random.random()"
   ]
  },
  {
   "cell_type": "markdown",
   "id": "22770f3d-d38c-4e5d-bb74-a265420ad884",
   "metadata": {},
   "source": [
    "#### It doesnt matter how many times we do it, as long as the seed remains the same, it would generate the same number "
   ]
  },
  {
   "cell_type": "markdown",
   "id": "0eaaf984-c990-4dc4-9679-3545f98006d1",
   "metadata": {},
   "source": [
    "### Random Numbers from Real-Valued Distributions \n",
    "#### Uniform\n",
    "- random.uniform() gets uniform random number in the range of two parameters given to it, a,b"
   ]
  },
  {
   "cell_type": "code",
   "execution_count": 6,
   "id": "1c30fd4f-f9d9-49a9-a8f4-4289de161c89",
   "metadata": {},
   "outputs": [
    {
     "data": {
      "text/plain": [
       "36.01831497938382"
      ]
     },
     "execution_count": 6,
     "metadata": {},
     "output_type": "execute_result"
    }
   ],
   "source": [
    "random.uniform(25,50)"
   ]
  },
  {
   "cell_type": "code",
   "execution_count": 9,
   "id": "5a370887-5f78-4fa4-b20e-08482907eaea",
   "metadata": {},
   "outputs": [],
   "source": [
    "unifNumbers = [random.uniform(1,10) for _ in range(1000)] # _ we arent interested in the looping variable just run?"
   ]
  },
  {
   "cell_type": "markdown",
   "id": "dde119ec-d697-4702-b48f-4f01de84f0bc",
   "metadata": {},
   "source": [
    "### Normal\n",
    "- random.normalvariate gets one random number from a normal distribution using your mean and std"
   ]
  },
  {
   "cell_type": "code",
   "execution_count": 32,
   "id": "9e10d5a9-a538-4267-8d8f-a276b2413870",
   "metadata": {},
   "outputs": [
    {
     "data": {
      "text/plain": [
       "2.344401355052487"
      ]
     },
     "execution_count": 32,
     "metadata": {},
     "output_type": "execute_result"
    }
   ],
   "source": [
    "mu = 5 # mean\n",
    "\n",
    "sigma = 1 # std\n",
    "\n",
    "random.normalvariate(mu, sigma)"
   ]
  },
  {
   "cell_type": "code",
   "execution_count": 40,
   "id": "6ca506a4-769a-4431-869c-15f9877fbe18",
   "metadata": {},
   "outputs": [
    {
     "data": {
      "text/plain": [
       "float"
      ]
     },
     "execution_count": 40,
     "metadata": {},
     "output_type": "execute_result"
    }
   ],
   "source": [
    "mu = 0 \n",
    "\n",
    "sigma = 1\n",
    "\n",
    "population = [random.normalvariate(mu, sigma) for _ in range(10000)]\n",
    "\n",
    "type(population[0])"
   ]
  },
  {
   "cell_type": "markdown",
   "id": "dff927ce-e90a-461a-856c-b30de53c851d",
   "metadata": {},
   "source": [
    "### Random Sampling from a Population\n",
    "\n",
    "From lecture, we know that **Simple Random Sampling (SRS)** has the following properties:\n",
    "\n",
    "* Start with known list of *N* population units, and randomly select *n* units from the list\n",
    "* Every unit has **equal probability of selection = _n/N_**\n",
    "* All possible samples of size *n* are equaly likely\n",
    "* Estimates of means, proportions, and totals based on SRS are **UNBIASED** (meaning they are equal to the population values on average)"
   ]
  },
  {
   "cell_type": "code",
   "execution_count": 39,
   "id": "9490389c-2a1c-4bc9-91f2-e55df69e8426",
   "metadata": {},
   "outputs": [],
   "source": [
    "import numpy as np"
   ]
  },
  {
   "cell_type": "code",
   "execution_count": 46,
   "id": "eb7d13d8-1789-4fe4-9329-f4e33fd69003",
   "metadata": {},
   "outputs": [],
   "source": [
    "SampleA = random.sample(population, 500)\n",
    "SampleB = random.sample(population, 500)"
   ]
  },
  {
   "cell_type": "code",
   "execution_count": 47,
   "id": "68a8b4d6-3cae-4a70-817f-c4e5ec54f0bd",
   "metadata": {},
   "outputs": [
    {
     "data": {
      "text/plain": [
       "-0.0665890816767735"
      ]
     },
     "execution_count": 47,
     "metadata": {},
     "output_type": "execute_result"
    }
   ],
   "source": [
    "np.mean(SampleA)"
   ]
  },
  {
   "cell_type": "code",
   "execution_count": 50,
   "id": "c7d2ba47-1e25-428f-9f3e-9bab49c7496d",
   "metadata": {},
   "outputs": [
    {
     "data": {
      "text/plain": [
       "0.9798335748548641"
      ]
     },
     "execution_count": 50,
     "metadata": {},
     "output_type": "execute_result"
    }
   ],
   "source": [
    "np.std(SampleA)"
   ]
  },
  {
   "cell_type": "code",
   "execution_count": 51,
   "id": "e4d049d5-9e42-428c-9248-2561cc84a728",
   "metadata": {},
   "outputs": [
    {
     "data": {
      "text/plain": [
       "-0.006731879411548444"
      ]
     },
     "execution_count": 51,
     "metadata": {},
     "output_type": "execute_result"
    }
   ],
   "source": [
    "np.mean(SampleB)"
   ]
  },
  {
   "cell_type": "code",
   "execution_count": 52,
   "id": "04bb978a-2bd6-4bf2-b106-6b2917320c9c",
   "metadata": {},
   "outputs": [
    {
     "data": {
      "text/plain": [
       "0.9394655249290815"
      ]
     },
     "execution_count": 52,
     "metadata": {},
     "output_type": "execute_result"
    }
   ],
   "source": [
    "np.std(SampleB)"
   ]
  },
  {
   "cell_type": "code",
   "execution_count": null,
   "id": "b5201cd7-7562-4c12-a550-77a56d000f89",
   "metadata": {},
   "outputs": [],
   "source": []
  },
  {
   "cell_type": "code",
   "execution_count": null,
   "id": "19be3b3f-e56a-4931-ae22-ce96a4a86d24",
   "metadata": {},
   "outputs": [],
   "source": []
  }
 ],
 "metadata": {
  "kernelspec": {
   "display_name": "Python 3",
   "language": "python",
   "name": "python3"
  },
  "language_info": {
   "codemirror_mode": {
    "name": "ipython",
    "version": 3
   },
   "file_extension": ".py",
   "mimetype": "text/x-python",
   "name": "python",
   "nbconvert_exporter": "python",
   "pygments_lexer": "ipython3",
   "version": "3.8.8"
  }
 },
 "nbformat": 4,
 "nbformat_minor": 5
}
