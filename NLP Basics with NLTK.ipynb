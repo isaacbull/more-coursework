{
 "cells": [
  {
   "cell_type": "markdown",
   "id": "3fbc5f99-102b-4b26-9ec5-1a08bf1331b0",
   "metadata": {},
   "source": [
    "## Basic NLP Tasks with NLTK"
   ]
  },
  {
   "cell_type": "markdown",
   "id": "c14b0f84-953b-47b6-947c-c4611f7b0d46",
   "metadata": {},
   "source": [
    "### Counting vocabulary of words"
   ]
  },
  {
   "cell_type": "code",
   "execution_count": 1,
   "id": "9fc33e3f-8a31-4de1-a10a-c65e4feeadcb",
   "metadata": {},
   "outputs": [
    {
     "name": "stdout",
     "output_type": "stream",
     "text": [
      "*** Introductory Examples for the NLTK Book ***\n",
      "Loading text1, ..., text9 and sent1, ..., sent9\n",
      "Type the name of the text or sentence to view it.\n",
      "Type: 'texts()' or 'sents()' to list the materials.\n",
      "text1: Moby Dick by Herman Melville 1851\n",
      "text2: Sense and Sensibility by Jane Austen 1811\n",
      "text3: The Book of Genesis\n",
      "text4: Inaugural Address Corpus\n",
      "text5: Chat Corpus\n",
      "text6: Monty Python and the Holy Grail\n",
      "text7: Wall Street Journal\n",
      "text8: Personals Corpus\n",
      "text9: The Man Who Was Thursday by G . K . Chesterton 1908\n"
     ]
    }
   ],
   "source": [
    "import nltk\n",
    "from nltk.book import *"
   ]
  },
  {
   "cell_type": "code",
   "execution_count": 3,
   "id": "1953528b-ad6a-4e09-9c64-3679fbab9ec2",
   "metadata": {},
   "outputs": [
    {
     "data": {
      "text/plain": [
       "<Text: The Man Who Was Thursday by G . K . Chesterton 1908>"
      ]
     },
     "execution_count": 3,
     "metadata": {},
     "output_type": "execute_result"
    }
   ],
   "source": [
    "text9"
   ]
  },
  {
   "cell_type": "code",
   "execution_count": 4,
   "id": "9124e35e-2b6f-4ce2-88ae-f993b641d58e",
   "metadata": {},
   "outputs": [
    {
     "data": {
      "text/plain": [
       "['THE',\n",
       " 'suburb',\n",
       " 'of',\n",
       " 'Saffron',\n",
       " 'Park',\n",
       " 'lay',\n",
       " 'on',\n",
       " 'the',\n",
       " 'sunset',\n",
       " 'side',\n",
       " 'of',\n",
       " 'London',\n",
       " ',',\n",
       " 'as',\n",
       " 'red',\n",
       " 'and',\n",
       " 'ragged',\n",
       " 'as',\n",
       " 'a',\n",
       " 'cloud',\n",
       " 'of',\n",
       " 'sunset',\n",
       " '.']"
      ]
     },
     "execution_count": 4,
     "metadata": {},
     "output_type": "execute_result"
    }
   ],
   "source": [
    "sent9"
   ]
  },
  {
   "cell_type": "code",
   "execution_count": 5,
   "id": "0439aeac-312b-4fa0-a2b4-33d8e871336b",
   "metadata": {},
   "outputs": [
    {
     "data": {
      "text/plain": [
       "23"
      ]
     },
     "execution_count": 5,
     "metadata": {},
     "output_type": "execute_result"
    }
   ],
   "source": [
    "len(sent9)"
   ]
  },
  {
   "cell_type": "code",
   "execution_count": 6,
   "id": "b9a50a44-2574-4dc2-b3e3-ec79ea91d6ab",
   "metadata": {},
   "outputs": [
    {
     "data": {
      "text/plain": [
       "19"
      ]
     },
     "execution_count": 6,
     "metadata": {},
     "output_type": "execute_result"
    }
   ],
   "source": [
    "len(set(sent9))"
   ]
  },
  {
   "cell_type": "code",
   "execution_count": 9,
   "id": "09780a0e-8934-4a19-b0b6-2f43a3e83af4",
   "metadata": {},
   "outputs": [
    {
     "data": {
      "text/plain": [
       "['THE', 'and', ',', 'London', 'suburb', 'a', 'as', 'cloud', 'lay', 'red']"
      ]
     },
     "execution_count": 9,
     "metadata": {},
     "output_type": "execute_result"
    }
   ],
   "source": [
    "list(set(sent9))[:10]"
   ]
  },
  {
   "cell_type": "code",
   "execution_count": 14,
   "id": "f3842b80-883a-49df-a9ca-dfd84f7f4568",
   "metadata": {},
   "outputs": [
    {
     "data": {
      "text/plain": [
       "['board', 'nonexecutive', 'join', 'Vinken', 'a', '29', 'will', ',', 'the']"
      ]
     },
     "execution_count": 14,
     "metadata": {},
     "output_type": "execute_result"
    }
   ],
   "source": [
    "list(set(sent7))[2:11]"
   ]
  },
  {
   "cell_type": "code",
   "execution_count": 26,
   "id": "99ddbb23-8dcb-4b7a-b34c-f9b29eea797b",
   "metadata": {},
   "outputs": [
    {
     "data": {
      "text/plain": [
       "12408"
      ]
     },
     "execution_count": 26,
     "metadata": {},
     "output_type": "execute_result"
    }
   ],
   "source": [
    "dist = FreqDist(text7)\n",
    "len(dist)"
   ]
  },
  {
   "cell_type": "code",
   "execution_count": 27,
   "id": "d6df0245-e6b5-4166-977f-d357fb1bdc4a",
   "metadata": {},
   "outputs": [
    {
     "data": {
      "text/plain": [
       "12408"
      ]
     },
     "execution_count": 27,
     "metadata": {},
     "output_type": "execute_result"
    }
   ],
   "source": [
    "len(set(text7))"
   ]
  },
  {
   "cell_type": "code",
   "execution_count": 28,
   "id": "17667bdb-4b6b-4b2a-baf7-de2b21e1c71d",
   "metadata": {},
   "outputs": [
    {
     "data": {
      "text/plain": [
       "['Pierre', 'Vinken', ',', '61', 'years', 'old', 'will', 'join', 'the', 'board']"
      ]
     },
     "execution_count": 28,
     "metadata": {},
     "output_type": "execute_result"
    }
   ],
   "source": [
    "vocab1 = dist.keys()\n",
    "list(vocab1)[:10]"
   ]
  },
  {
   "cell_type": "code",
   "execution_count": 29,
   "id": "e162bb90-3ebb-4468-ba6c-6dab71e8c54b",
   "metadata": {},
   "outputs": [
    {
     "data": {
      "text/plain": [
       "[',', 'the', '.', 'of', 'to', 'a', 'in', 'and', '*-1', '0']"
      ]
     },
     "execution_count": 29,
     "metadata": {},
     "output_type": "execute_result"
    }
   ],
   "source": [
    "list(dist)[0:10]"
   ]
  },
  {
   "cell_type": "code",
   "execution_count": 30,
   "id": "3b96c0bf-6227-4fbc-8573-3e4cbaf554bb",
   "metadata": {},
   "outputs": [
    {
     "data": {
      "text/plain": [
       "115"
      ]
     },
     "execution_count": 30,
     "metadata": {},
     "output_type": "execute_result"
    }
   ],
   "source": [
    "dist['years']"
   ]
  },
  {
   "cell_type": "code",
   "execution_count": 32,
   "id": "5ab70c0d-8cef-4771-800e-8a065233cd03",
   "metadata": {},
   "outputs": [
    {
     "data": {
      "text/plain": [
       "[(',', 4885),\n",
       " ('the', 4045),\n",
       " ('.', 3828),\n",
       " ('of', 2319),\n",
       " ('to', 2164),\n",
       " ('a', 1878),\n",
       " ('in', 1572),\n",
       " ('and', 1511),\n",
       " ('*-1', 1123),\n",
       " ('0', 1099)]"
      ]
     },
     "execution_count": 32,
     "metadata": {},
     "output_type": "execute_result"
    }
   ],
   "source": [
    "dist.most_common()[0:10]"
   ]
  },
  {
   "cell_type": "code",
   "execution_count": 35,
   "id": "0bb17c0a-072e-43b8-8cc1-8c0a032a619d",
   "metadata": {},
   "outputs": [],
   "source": [
    "freqwords = [w for w in vocab1 if len(w) >5 and dist[w] > 100]"
   ]
  },
  {
   "cell_type": "code",
   "execution_count": 36,
   "id": "be8db4e4-d1d2-4b30-a4d2-e2931bcbbe85",
   "metadata": {},
   "outputs": [
    {
     "data": {
      "text/plain": [
       "['billion',\n",
       " 'company',\n",
       " 'president',\n",
       " 'because',\n",
       " 'market',\n",
       " 'million',\n",
       " 'shares',\n",
       " 'trading',\n",
       " 'program']"
      ]
     },
     "execution_count": 36,
     "metadata": {},
     "output_type": "execute_result"
    }
   ],
   "source": [
    "freqwords"
   ]
  },
  {
   "cell_type": "markdown",
   "id": "9ede28bc-72dd-4b0d-8faf-d94cb8f11c8b",
   "metadata": {},
   "source": [
    "### Normalization and stemming"
   ]
  },
  {
   "cell_type": "code",
   "execution_count": 37,
   "id": "4aee0417-a550-49ae-8d7d-8ec0e77ccb48",
   "metadata": {},
   "outputs": [],
   "source": [
    "input1 = 'list, Listed, Listings, List, lists, Lists' # creating a list of strings with different casings and extensions"
   ]
  },
  {
   "cell_type": "code",
   "execution_count": 38,
   "id": "9f30ac1c-1899-432e-a701-a9d026ff5bc1",
   "metadata": {},
   "outputs": [],
   "source": [
    "words1 = input1.lower().split(' ') # convert them to all lists "
   ]
  },
  {
   "cell_type": "code",
   "execution_count": 39,
   "id": "804978e2-3a4a-4381-ae27-6206d8c6afa1",
   "metadata": {},
   "outputs": [
    {
     "data": {
      "text/plain": [
       "['list,', 'listed,', 'listings,', 'list,', 'lists,', 'lists']"
      ]
     },
     "execution_count": 39,
     "metadata": {},
     "output_type": "execute_result"
    }
   ],
   "source": [
    "words1"
   ]
  },
  {
   "cell_type": "code",
   "execution_count": 40,
   "id": "125d5601-1ee7-4bdd-b258-b8505fbed003",
   "metadata": {},
   "outputs": [
    {
     "data": {
      "text/plain": [
       "['list,', 'listed,', 'listings,', 'list,', 'lists,', 'list']"
      ]
     },
     "execution_count": 40,
     "metadata": {},
     "output_type": "execute_result"
    }
   ],
   "source": [
    "porter = nltk.PorterStemmer()\n",
    "[porter.stem(t) for t in words1]"
   ]
  },
  {
   "cell_type": "markdown",
   "id": "1d3c2e37-8256-47ae-825b-002f9e706b49",
   "metadata": {},
   "source": [
    "### Lemmatization"
   ]
  },
  {
   "cell_type": "code",
   "execution_count": 41,
   "id": "a1a2072a-638a-466d-b17a-e83981346450",
   "metadata": {},
   "outputs": [],
   "source": [
    "udhr = nltk.corpus.udhr.words('English-Latin1')  # UN declaration of human rights corpus"
   ]
  },
  {
   "cell_type": "code",
   "execution_count": 42,
   "id": "84a9b13d-be31-4b88-8f5f-8dfe79da3957",
   "metadata": {},
   "outputs": [
    {
     "data": {
      "text/plain": [
       "['Universal',\n",
       " 'Declaration',\n",
       " 'of',\n",
       " 'Human',\n",
       " 'Rights',\n",
       " 'Preamble',\n",
       " 'Whereas',\n",
       " 'recognition',\n",
       " 'of',\n",
       " 'the',\n",
       " 'inherent',\n",
       " 'dignity',\n",
       " 'and',\n",
       " 'of',\n",
       " 'the',\n",
       " 'equal',\n",
       " 'and',\n",
       " 'inalienable',\n",
       " 'rights',\n",
       " 'of']"
      ]
     },
     "execution_count": 42,
     "metadata": {},
     "output_type": "execute_result"
    }
   ],
   "source": [
    "udhr[:20]"
   ]
  },
  {
   "cell_type": "code",
   "execution_count": 44,
   "id": "e14a4bbf-80c2-4df1-af62-0d7ee57f3526",
   "metadata": {},
   "outputs": [
    {
     "data": {
      "text/plain": [
       "['univers',\n",
       " 'declar',\n",
       " 'of',\n",
       " 'human',\n",
       " 'right',\n",
       " 'preambl',\n",
       " 'wherea',\n",
       " 'recognit',\n",
       " 'of',\n",
       " 'the',\n",
       " 'inher',\n",
       " 'digniti',\n",
       " 'and',\n",
       " 'of',\n",
       " 'the',\n",
       " 'equal',\n",
       " 'and',\n",
       " 'inalien',\n",
       " 'right',\n",
       " 'of']"
      ]
     },
     "execution_count": 44,
     "metadata": {},
     "output_type": "execute_result"
    }
   ],
   "source": [
    "[porter.stem(t) for t in udhr[:20]] # still stemming, to show difference"
   ]
  },
  {
   "cell_type": "code",
   "execution_count": 45,
   "id": "437af43e-eb1e-43fa-b70f-76d17001a87b",
   "metadata": {},
   "outputs": [
    {
     "data": {
      "text/plain": [
       "['Universal',\n",
       " 'Declaration',\n",
       " 'of',\n",
       " 'Human',\n",
       " 'Rights',\n",
       " 'Preamble',\n",
       " 'Whereas',\n",
       " 'recognition',\n",
       " 'of',\n",
       " 'the',\n",
       " 'inherent',\n",
       " 'dignity',\n",
       " 'and',\n",
       " 'of',\n",
       " 'the',\n",
       " 'equal',\n",
       " 'and',\n",
       " 'inalienable',\n",
       " 'right',\n",
       " 'of']"
      ]
     },
     "execution_count": 45,
     "metadata": {},
     "output_type": "execute_result"
    }
   ],
   "source": [
    "WNlemma = nltk.WordNetLemmatizer()\n",
    "[WNlemma.lemmatize(t) for t in udhr[:20]]"
   ]
  },
  {
   "cell_type": "markdown",
   "id": "2b26e004-2e8a-4834-a4d0-71969fa1a084",
   "metadata": {},
   "source": [
    "### Tokenization \n",
    "The python split doesn't work perfectly sometimes, cause it joins stop words to words as one word, we can use NLTK \n",
    "tokenizing function to do this better "
   ]
  },
  {
   "cell_type": "code",
   "execution_count": 46,
   "id": "256763b3-71a0-42c6-a796-64dbb96e6c90",
   "metadata": {},
   "outputs": [
    {
     "data": {
      "text/plain": [
       "['Children', \"shouldn't\", 'drink', 'a', 'sugary', 'drink', 'before', 'bed.']"
      ]
     },
     "execution_count": 46,
     "metadata": {},
     "output_type": "execute_result"
    }
   ],
   "source": [
    "text11 = \"Children shouldn't drink a sugary drink before bed.\"\n",
    "text11.split(' ')"
   ]
  },
  {
   "cell_type": "code",
   "execution_count": 49,
   "id": "1ff31dbb-868b-43d2-8b39-c63ecd7629c0",
   "metadata": {},
   "outputs": [
    {
     "data": {
      "text/plain": [
       "['Children',\n",
       " 'should',\n",
       " \"n't\",\n",
       " 'drink',\n",
       " 'a',\n",
       " 'sugary',\n",
       " 'drink',\n",
       " 'before',\n",
       " 'bed',\n",
       " '.']"
      ]
     },
     "execution_count": 49,
     "metadata": {},
     "output_type": "execute_result"
    }
   ],
   "source": [
    "tokenized = nltk.word_tokenize(text11)\n",
    "tokenized"
   ]
  },
  {
   "cell_type": "markdown",
   "id": "3c8804fe-78b3-4b52-8693-54b89ede912c",
   "metadata": {},
   "source": [
    "we can also tokenize sentences using the sent_tokenize function instead "
   ]
  },
  {
   "cell_type": "code",
   "execution_count": 51,
   "id": "bb9b2209-a6c3-4171-b2a9-f616841869b7",
   "metadata": {},
   "outputs": [
    {
     "data": {
      "text/plain": [
       "4"
      ]
     },
     "execution_count": 51,
     "metadata": {},
     "output_type": "execute_result"
    }
   ],
   "source": [
    "text12 = \"This is the first sentence. A gallon of milk in the U.S. costs $2.99. Is this the third sentence? Yes, it is!\"\n",
    "sentences = nltk.sent_tokenize(text12)\n",
    "len(sentences)"
   ]
  },
  {
   "cell_type": "code",
   "execution_count": 53,
   "id": "184fe5b6-2907-461c-8b75-e29071faab0a",
   "metadata": {},
   "outputs": [
    {
     "data": {
      "text/plain": [
       "['This is the first sentence.',\n",
       " 'A gallon of milk in the U.S. costs $2.99.',\n",
       " 'Is this the third sentence?',\n",
       " 'Yes, it is!']"
      ]
     },
     "execution_count": 53,
     "metadata": {},
     "output_type": "execute_result"
    }
   ],
   "source": [
    "sentences"
   ]
  },
  {
   "cell_type": "markdown",
   "id": "eafc0f6f-25e4-4bfc-9883-c8cf86a151f8",
   "metadata": {},
   "source": [
    "## Advanced NLP Tasks with NLTK\n"
   ]
  },
  {
   "cell_type": "markdown",
   "id": "0f4ace83-b912-4858-89ad-7db88e418ca1",
   "metadata": {},
   "source": [
    "#### POS Tagging"
   ]
  },
  {
   "cell_type": "code",
   "execution_count": 56,
   "id": "51d0bce5-03f9-44ca-b701-b9b682267c84",
   "metadata": {},
   "outputs": [
    {
     "name": "stdout",
     "output_type": "stream",
     "text": [
      "NN: noun, common, singular or mass\n",
      "    common-carrier cabbage knuckle-duster Casino afghan shed thermostat\n",
      "    investment slide humour falloff slick wind hyena override subhumanity\n",
      "    machinist ...\n"
     ]
    }
   ],
   "source": [
    "nltk.help.upenn_tagset(\"NN\") # to check the meaning of a particular tagset"
   ]
  },
  {
   "cell_type": "code",
   "execution_count": 57,
   "id": "9ef6dc86-357c-4ab1-b489-4d83fd0beb21",
   "metadata": {},
   "outputs": [],
   "source": [
    "text13 = nltk.word_tokenize(text11)"
   ]
  },
  {
   "cell_type": "code",
   "execution_count": 58,
   "id": "d5ed47b4-756d-49ea-80fb-27873226c1aa",
   "metadata": {},
   "outputs": [
    {
     "data": {
      "text/plain": [
       "[('Children', 'NNP'),\n",
       " ('should', 'MD'),\n",
       " (\"n't\", 'RB'),\n",
       " ('drink', 'VB'),\n",
       " ('a', 'DT'),\n",
       " ('sugary', 'JJ'),\n",
       " ('drink', 'NN'),\n",
       " ('before', 'IN'),\n",
       " ('bed', 'NN'),\n",
       " ('.', '.')]"
      ]
     },
     "execution_count": 58,
     "metadata": {},
     "output_type": "execute_result"
    }
   ],
   "source": [
    "nltk.pos_tag(text13)"
   ]
  },
  {
   "cell_type": "markdown",
   "id": "860d199c-142d-41cc-86d9-0c99e86f75d7",
   "metadata": {},
   "source": [
    "#### Ambuiguous sentences.  "
   ]
  },
  {
   "cell_type": "code",
   "execution_count": 61,
   "id": "cdc45683-ca7a-4a69-87e5-d8fcbd172889",
   "metadata": {},
   "outputs": [],
   "source": [
    "text14 = nltk.word_tokenize(\"Visiting uncles can be a nuissance\") # creating and tokenizing an ambiguous sentence"
   ]
  },
  {
   "cell_type": "code",
   "execution_count": 62,
   "id": "bf74ab3d-0c63-43d5-9948-1a42f4d47433",
   "metadata": {},
   "outputs": [
    {
     "data": {
      "text/plain": [
       "[('Visiting', 'VBG'),\n",
       " ('uncles', 'NNS'),\n",
       " ('can', 'MD'),\n",
       " ('be', 'VB'),\n",
       " ('a', 'DT'),\n",
       " ('nuissance', 'NN')]"
      ]
     },
     "execution_count": 62,
     "metadata": {},
     "output_type": "execute_result"
    }
   ],
   "source": [
    "nltk.pos_tag(text14)"
   ]
  },
  {
   "cell_type": "code",
   "execution_count": 63,
   "id": "37234e4a-853c-4d71-b442-8cd3d076793a",
   "metadata": {},
   "outputs": [
    {
     "name": "stdout",
     "output_type": "stream",
     "text": [
      "DT: determiner\n",
      "    all an another any both del each either every half la many much nary\n",
      "    neither no some such that the them these this those\n"
     ]
    }
   ],
   "source": [
    "nltk.help.upenn_tagset(\"DT\")"
   ]
  },
  {
   "cell_type": "code",
   "execution_count": 64,
   "id": "d22c39c7-f303-4974-a27f-f25d50f9536c",
   "metadata": {},
   "outputs": [
    {
     "name": "stdout",
     "output_type": "stream",
     "text": [
      "NNS: noun, common, plural\n",
      "    undergraduates scotches bric-a-brac products bodyguards facets coasts\n",
      "    divestitures storehouses designs clubs fragrances averages\n",
      "    subjectivists apprehensions muses factory-jobs ...\n"
     ]
    }
   ],
   "source": [
    "nltk.help.upenn_tagset(\"NNS\")"
   ]
  },
  {
   "cell_type": "markdown",
   "id": "03a7e4dc-114a-4e00-a1d1-5a7659408754",
   "metadata": {},
   "source": [
    "### Parsing a sentence structure, literally, creating an abstract syntax tree "
   ]
  },
  {
   "cell_type": "code",
   "execution_count": 66,
   "id": "fd6ee4b4-275a-4520-97e0-268c426d2b2b",
   "metadata": {},
   "outputs": [
    {
     "name": "stdout",
     "output_type": "stream",
     "text": [
      "(S (NP Alice) (VP (V loves) (NP Bob)))\n"
     ]
    }
   ],
   "source": [
    "# Parsing sentence structure \n",
    "\n",
    "text15 = nltk.word_tokenize(\"Alice loves Bob\")\n",
    "grammar = nltk.CFG.fromstring(\"\"\"\n",
    "S -> NP VP\n",
    "VP -> V NP\n",
    "NP -> 'Alice' | 'Bob' \n",
    "V -> 'loves'\n",
    "\"\"\")\n",
    "\n",
    "parser = nltk.ChartParser(grammar)\n",
    "trees = parser.parse_all(text15)\n",
    "for tree in trees:\n",
    "    print(tree)"
   ]
  },
  {
   "cell_type": "code",
   "execution_count": 71,
   "id": "313b812f-569b-425c-a9a7-ee2f73f4ff1e",
   "metadata": {},
   "outputs": [
    {
     "data": {
      "text/plain": [
       "<Grammar with 13 productions>"
      ]
     },
     "execution_count": 71,
     "metadata": {},
     "output_type": "execute_result"
    }
   ],
   "source": [
    "text16 = nltk.word_tokenize(\"I saw the man with the telescope\")\n",
    "grammar1 = nltk.data.load('mygrammar.cfg')\n",
    "grammar1"
   ]
  },
  {
   "cell_type": "code",
   "execution_count": 72,
   "id": "ec2e8a90-11e5-414b-8472-4a339155275b",
   "metadata": {},
   "outputs": [],
   "source": [
    "parser = nltk.ChartParser(grammar1)\n",
    "trees = parser.parse_all(text16)"
   ]
  },
  {
   "cell_type": "code",
   "execution_count": 73,
   "id": "facfc61f-412a-4c07-828e-94b5d249834e",
   "metadata": {},
   "outputs": [
    {
     "name": "stdout",
     "output_type": "stream",
     "text": [
      "(S\n",
      "  (NP I)\n",
      "  (VP\n",
      "    (VP (V saw) (NP (Det the) (N man)))\n",
      "    (PP (P with) (NP (Det the) (N telescope)))))\n",
      "(S\n",
      "  (NP I)\n",
      "  (VP\n",
      "    (V saw)\n",
      "    (NP (Det the) (N man) (PP (P with) (NP (Det the) (N telescope))))))\n"
     ]
    }
   ],
   "source": [
    "for tree in trees:\n",
    "    print(tree)"
   ]
  },
  {
   "cell_type": "code",
   "execution_count": 75,
   "id": "6e187c3d-baf5-42c7-a9ce-2c79c3e300a5",
   "metadata": {},
   "outputs": [
    {
     "name": "stdout",
     "output_type": "stream",
     "text": [
      "(S\n",
      "  (NP-SBJ\n",
      "    (NP (NNP Pierre) (NNP Vinken))\n",
      "    (, ,)\n",
      "    (ADJP (NP (CD 61) (NNS years)) (JJ old))\n",
      "    (, ,))\n",
      "  (VP\n",
      "    (MD will)\n",
      "    (VP\n",
      "      (VB join)\n",
      "      (NP (DT the) (NN board))\n",
      "      (PP-CLR (IN as) (NP (DT a) (JJ nonexecutive) (NN director)))\n",
      "      (NP-TMP (NNP Nov.) (CD 29))))\n",
      "  (. .))\n"
     ]
    }
   ],
   "source": [
    "from nltk.corpus import treebank\n",
    "text17 = treebank.parsed_sents('wsj_0001.mrg')[0]\n",
    "print(text17)"
   ]
  },
  {
   "cell_type": "code",
   "execution_count": 77,
   "id": "1c636eb0-f338-4dc7-a8b8-50d7d953a086",
   "metadata": {},
   "outputs": [
    {
     "name": "stdout",
     "output_type": "stream",
     "text": [
      "IN: preposition or conjunction, subordinating\n",
      "    astride among uppon whether out inside pro despite on by throughout\n",
      "    below within for towards near behind atop around if like until below\n",
      "    next into if beside ...\n"
     ]
    }
   ],
   "source": [
    "nltk.help.upenn_tagset(\"IN\")"
   ]
  },
  {
   "cell_type": "markdown",
   "id": "d8dcc638-e703-4f02-9e86-1ac37205a21a",
   "metadata": {},
   "source": [
    "### POS Tagging and Parsing Ambiguity "
   ]
  },
  {
   "cell_type": "code",
   "execution_count": 78,
   "id": "6971ac94-05f8-4c12-a603-e459e7a6eb40",
   "metadata": {},
   "outputs": [
    {
     "data": {
      "text/plain": [
       "[('The', 'DT'), ('old', 'JJ'), ('man', 'NN'), ('the', 'DT'), ('boat', 'NN')]"
      ]
     },
     "execution_count": 78,
     "metadata": {},
     "output_type": "execute_result"
    }
   ],
   "source": [
    "text18 = nltk.word_tokenize(\"The old man the boat\")\n",
    "nltk.pos_tag(text18)"
   ]
  },
  {
   "cell_type": "code",
   "execution_count": 79,
   "id": "2ffeb018-53fe-4269-834d-d7d0e7006450",
   "metadata": {},
   "outputs": [
    {
     "data": {
      "text/plain": [
       "[('Colorless', 'NNP'),\n",
       " ('greenless', 'NN'),\n",
       " ('idease', 'NN'),\n",
       " ('sleep', 'NN'),\n",
       " ('furiously', 'RB')]"
      ]
     },
     "execution_count": 79,
     "metadata": {},
     "output_type": "execute_result"
    }
   ],
   "source": [
    "text19 = nltk.word_tokenize(\"Colorless greenless idease sleep furiously\")\n",
    "nltk.pos_tag(text19)"
   ]
  },
  {
   "cell_type": "code",
   "execution_count": null,
   "id": "2b3d6c3b-2468-4d97-8852-e845676115e0",
   "metadata": {},
   "outputs": [],
   "source": []
  },
  {
   "cell_type": "code",
   "execution_count": null,
   "id": "7b23cb1d-6faa-4d83-920b-6823a7cc947d",
   "metadata": {},
   "outputs": [],
   "source": []
  },
  {
   "cell_type": "code",
   "execution_count": null,
   "id": "a6723d0e-2f51-45fe-ad31-33b74eb76bf0",
   "metadata": {},
   "outputs": [],
   "source": []
  },
  {
   "cell_type": "code",
   "execution_count": null,
   "id": "80a61245-bc6b-453e-9eb1-70e9d9b9a976",
   "metadata": {},
   "outputs": [],
   "source": []
  },
  {
   "cell_type": "code",
   "execution_count": null,
   "id": "431b911c-349b-4b5d-a547-1e904552b75d",
   "metadata": {},
   "outputs": [],
   "source": []
  }
 ],
 "metadata": {
  "kernelspec": {
   "display_name": "Python 3",
   "language": "python",
   "name": "python3"
  },
  "language_info": {
   "codemirror_mode": {
    "name": "ipython",
    "version": 3
   },
   "file_extension": ".py",
   "mimetype": "text/x-python",
   "name": "python",
   "nbconvert_exporter": "python",
   "pygments_lexer": "ipython3",
   "version": "3.8.8"
  }
 },
 "nbformat": 4,
 "nbformat_minor": 5
}
