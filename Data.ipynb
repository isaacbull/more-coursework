{
 "cells": [
  {
   "cell_type": "markdown",
   "id": "c891c8e4-eda7-47b2-b406-579cca10b87a",
   "metadata": {},
   "source": [
    "## Categorical data \n",
    "\n",
    "categorital data are categories that are numbered like 1 to 5 for singl to windowed people\n",
    "\n",
    "to summarize categorical data we can take the counts or the percentage\n",
    "\n",
    "to take the percentage of a value in our data, we can take the count of that value and divide it by the total data (the count of the value and other categories)\n",
    "the best way to visualize categorical data is with a bar chart\n",
    "bar charts are the best for representation for categorical data.."
   ]
  },
  {
   "cell_type": "code",
   "execution_count": null,
   "id": "e9db5172-802f-44f2-9677-d41bd3ba2d39",
   "metadata": {},
   "outputs": [],
   "source": []
  }
 ],
 "metadata": {
  "kernelspec": {
   "display_name": "Python 3",
   "language": "python",
   "name": "python3"
  },
  "language_info": {
   "codemirror_mode": {
    "name": "ipython",
    "version": 3
   },
   "file_extension": ".py",
   "mimetype": "text/x-python",
   "name": "python",
   "nbconvert_exporter": "python",
   "pygments_lexer": "ipython3",
   "version": "3.8.8"
  }
 },
 "nbformat": 4,
 "nbformat_minor": 5
}
