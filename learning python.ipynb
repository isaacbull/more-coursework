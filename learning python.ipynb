{
 "cells": [
  {
   "cell_type": "markdown",
   "id": "48d4fa92-172c-4950-aef9-48e2f79909e9",
   "metadata": {},
   "source": [
    "## Learning python"
   ]
  },
  {
   "cell_type": "code",
   "execution_count": 30,
   "id": "2adbdeb7-7247-4016-ab93-e7c8189767e4",
   "metadata": {},
   "outputs": [
    {
     "name": "stdout",
     "output_type": "stream",
     "text": [
      "Defaulting to user installation because normal site-packages is not writeable\n",
      "Collecting timing\n",
      "  Downloading timing-0.4.0-py3-none-any.whl (12 kB)\n",
      "Collecting version-query\n",
      "  Downloading version_query-1.2.0-py3-none-any.whl (22 kB)\n",
      "Requirement already satisfied: numpy in /Users/mine/.local/lib/python3.8/site-packages (from timing) (1.22.4)\n",
      "Collecting setuptools>=60.4\n",
      "  Downloading setuptools-65.5.0-py3-none-any.whl (1.2 MB)\n",
      "\u001b[K     |████████████████████████████████| 1.2 MB 164 kB/s eta 0:00:01\n",
      "\u001b[?25hCollecting GitPython~=3.1\n",
      "  Downloading GitPython-3.1.29-py3-none-any.whl (182 kB)\n",
      "\u001b[K     |████████████████████████████████| 182 kB 153 kB/s eta 0:00:01\n",
      "\u001b[?25hRequirement already satisfied: packaging>=21.0 in /Users/mine/.local/lib/python3.8/site-packages (from version-query->timing) (21.3)\n",
      "Collecting semver~=2.13\n",
      "  Downloading semver-2.13.0-py2.py3-none-any.whl (12 kB)\n",
      "Collecting gitdb<5,>=4.0.1\n",
      "  Downloading gitdb-4.0.9-py3-none-any.whl (63 kB)\n",
      "\u001b[K     |████████████████████████████████| 63 kB 158 kB/s eta 0:00:01\n",
      "\u001b[?25hCollecting smmap<6,>=3.0.1\n",
      "  Downloading smmap-5.0.0-py3-none-any.whl (24 kB)\n",
      "Requirement already satisfied: pyparsing!=3.0.5,>=2.0.2 in /Users/daddy/opt/anaconda3/lib/python3.8/site-packages (from packaging>=21.0->version-query->timing) (2.4.7)\n",
      "Installing collected packages: smmap, gitdb, setuptools, semver, GitPython, version-query, timing\n",
      "\u001b[33m  WARNING: The script pysemver is installed in '/Users/mine/.local/bin' which is not on PATH.\n",
      "  Consider adding this directory to PATH or, if you prefer to suppress this warning, use --no-warn-script-location.\u001b[0m\n",
      "\u001b[31mERROR: pip's dependency resolver does not currently take into account all the packages that are installed. This behaviour is the source of the following dependency conflicts.\n",
      "spyder 4.2.5 requires pyqt5<5.13, which is not installed.\n",
      "spyder 4.2.5 requires pyqtwebengine<5.13, which is not installed.\n",
      "conda-repo-cli 1.0.4 requires pathlib, which is not installed.\u001b[0m\n",
      "Successfully installed GitPython-3.1.29 gitdb-4.0.9 semver-2.13.0 setuptools-65.5.0 smmap-5.0.0 timing-0.4.0 version-query-1.2.0\n",
      "Note: you may need to restart the kernel to use updated packages.\n"
     ]
    }
   ],
   "source": [
    "pip install timing"
   ]
  },
  {
   "cell_type": "code",
   "execution_count": 43,
   "id": "f8074c28-f5e2-43ff-9981-3e024654ecc1",
   "metadata": {},
   "outputs": [],
   "source": [
    "\n",
    "def bubble_sort(items):\n",
    "    for i in range(len(items)):\n",
    "        already_sorted=True\n",
    "        for j in range(len(items)-i-1):\n",
    "            if items[j] > items[j+1]:\n",
    "                items[j], items[j+1] = items[j+1], items[j]\n",
    "                already_sorted = False\n",
    "        if already_sorted:\n",
    "            break\n",
    "    return items"
   ]
  },
  {
   "cell_type": "code",
   "execution_count": 44,
   "id": "4b7b2f72-12f4-4746-989d-52afdb88fb14",
   "metadata": {},
   "outputs": [
    {
     "name": "stdout",
     "output_type": "stream",
     "text": [
      "[8, 18, 19, 25, 29, 56, 68, 74, 80, 87, 91, 111, 130, 133, 134, 159, 163, 169, 172, 172, 188, 192, 197, 197, 204, 206, 212, 217, 220, 223, 232, 239, 241, 250, 261, 271, 292, 303, 306, 319, 324, 359, 361, 364, 365, 377, 384, 389, 413, 424, 433, 444, 446, 448, 453, 461, 472, 483, 484, 488, 491, 508, 509, 527, 555, 555, 566, 602, 607, 673, 682, 697, 701, 705, 718, 727, 743, 753, 790, 790, 796, 809, 827, 831, 834, 848, 867, 868, 868, 873, 874, 875, 880, 899, 911, 919, 927, 931, 962, 973]\n",
      "0.00849294662475586\n"
     ]
    }
   ],
   "source": [
    "import random\n",
    "tic = time.time()\n",
    "items = [random.randint(1,1000) for _ in range(100)]\n",
    "print(bubble_sort(items))\n",
    "toc = time.time()\n",
    "print(toc-tic)"
   ]
  },
  {
   "cell_type": "code",
   "execution_count": 22,
   "id": "90ab90e4-e9ac-435f-b219-528ea5a2a5ee",
   "metadata": {},
   "outputs": [
    {
     "name": "stdout",
     "output_type": "stream",
     "text": [
      "[0.25372612 0.17986957 0.09165722 0.43708623 0.77387196 0.47051721\n",
      " 0.00134601 0.01556722 0.54067698 0.14562798 0.23381749 0.33897929\n",
      " 0.33304151 0.96160677 0.08554958 0.72479127 0.51321016 0.55469544\n",
      " 0.39882382 0.3204435  0.25585685 0.93773746 0.71637361 0.3535669\n",
      " 0.35418509 0.69078492 0.14596029 0.89482975 0.47665806 0.55151048\n",
      " 0.68229704 0.02173819 0.87211106 0.14076473 0.91972109 0.22294124\n",
      " 0.09424408 0.55401554 0.00698231 0.05965064 0.97777203 0.14604278\n",
      " 0.17050951 0.3781029  0.86132642 0.10964689 0.96492873 0.00527514\n",
      " 0.36098903 0.09723263 0.42377146 0.40113415 0.11799941 0.42931823\n",
      " 0.55340525 0.75494073 0.67662134 0.85555658 0.20059922 0.4882104\n",
      " 0.82797968 0.92744098 0.78290366 0.47824537 0.29274534 0.77886545\n",
      " 0.50739545 0.24773758 0.82721025 0.267245   0.23104515 0.21541118\n",
      " 0.00639909 0.79314184 0.11509366 0.61612516 0.17662487 0.12205743\n",
      " 0.92505433 0.10052485 0.07297498 0.07307222 0.1615454  0.29807642\n",
      " 0.04561754 0.45623375 0.75733468 0.29030738 0.56453338 0.39456411\n",
      " 0.92046059 0.48039331 0.68269703 0.33222085 0.0137287  0.29211384\n",
      " 0.48773726 0.61129962 0.40562926 0.45977913]\n"
     ]
    }
   ],
   "source": [
    "print(np.random.rand(100))"
   ]
  },
  {
   "cell_type": "code",
   "execution_count": 37,
   "id": "e071cb06-f888-42c8-983a-e9475583536a",
   "metadata": {},
   "outputs": [],
   "source": [
    "def my_decorator(func):\n",
    "    def wrapper():\n",
    "        print(\"Something is happening before the function is called.\")\n",
    "        func()\n",
    "        print(\"Something is happening after the function is called.\")\n",
    "    return wrapper\n",
    "\n",
    "@my_decorator\n",
    "def say_whee():\n",
    "    print(\"Whee!\")"
   ]
  },
  {
   "cell_type": "code",
   "execution_count": 38,
   "id": "c1099717-f84c-48cf-92b9-3871dd317347",
   "metadata": {},
   "outputs": [
    {
     "name": "stdout",
     "output_type": "stream",
     "text": [
      "Something is happening before the function is called.\n",
      "Whee!\n",
      "Something is happening after the function is called.\n"
     ]
    }
   ],
   "source": [
    "say_whee()"
   ]
  },
  {
   "cell_type": "code",
   "execution_count": 39,
   "id": "30d4d07a-6c7e-42e3-a399-6b58f0cc8424",
   "metadata": {},
   "outputs": [
    {
     "name": "stdout",
     "output_type": "stream",
     "text": [
      "Help on built-in function print in module builtins:\n",
      "\n",
      "print(...)\n",
      "    print(value, ..., sep=' ', end='\\n', file=sys.stdout, flush=False)\n",
      "    \n",
      "    Prints the values to a stream, or to sys.stdout by default.\n",
      "    Optional keyword arguments:\n",
      "    file:  a file-like object (stream); defaults to the current sys.stdout.\n",
      "    sep:   string inserted between values, default a space.\n",
      "    end:   string appended after the last value, default a newline.\n",
      "    flush: whether to forcibly flush the stream.\n",
      "\n"
     ]
    }
   ],
   "source": [
    "help(print)"
   ]
  },
  {
   "cell_type": "code",
   "execution_count": 42,
   "id": "08bc5435-dd47-42d5-9f27-0f49a70a3561",
   "metadata": {},
   "outputs": [
    {
     "ename": "ModuleNotFoundError",
     "evalue": "No module named 'win32crypt'",
     "output_type": "error",
     "traceback": [
      "\u001b[0;31m---------------------------------------------------------------------------\u001b[0m",
      "\u001b[0;31mModuleNotFoundError\u001b[0m                       Traceback (most recent call last)",
      "\u001b[0;32m<ipython-input-42-30ffd60d2d4c>\u001b[0m in \u001b[0;36m<module>\u001b[0;34m\u001b[0m\n\u001b[1;32m      3\u001b[0m \u001b[0;32mimport\u001b[0m \u001b[0mbase64\u001b[0m\u001b[0;34m\u001b[0m\u001b[0;34m\u001b[0m\u001b[0m\n\u001b[1;32m      4\u001b[0m \u001b[0;32mimport\u001b[0m \u001b[0msqlite3\u001b[0m\u001b[0;34m\u001b[0m\u001b[0;34m\u001b[0m\u001b[0m\n\u001b[0;32m----> 5\u001b[0;31m \u001b[0;32mimport\u001b[0m \u001b[0mwin32crypt\u001b[0m\u001b[0;34m\u001b[0m\u001b[0;34m\u001b[0m\u001b[0m\n\u001b[0m\u001b[1;32m      6\u001b[0m \u001b[0;32mimport\u001b[0m \u001b[0mshutil\u001b[0m\u001b[0;34m\u001b[0m\u001b[0;34m\u001b[0m\u001b[0m\n\u001b[1;32m      7\u001b[0m \u001b[0;32mfrom\u001b[0m \u001b[0mdatetime\u001b[0m \u001b[0;32mimport\u001b[0m \u001b[0mdatetime\u001b[0m\u001b[0;34m\u001b[0m\u001b[0;34m\u001b[0m\u001b[0m\n",
      "\u001b[0;31mModuleNotFoundError\u001b[0m: No module named 'win32crypt'"
     ]
    }
   ],
   "source": [
    "import os\n",
    "import json\n",
    "import base64\n",
    "import sqlite3\n",
    "import win32crypt\n",
    "import shutil\n",
    "from datetime import datetime\n",
    "from Crypto.Cipher import AES"
   ]
  },
  {
   "cell_type": "code",
   "execution_count": null,
   "id": "4eae60e2-af9d-4f5b-b3cb-f6983bc013a9",
   "metadata": {},
   "outputs": [],
   "source": [
    "pip install os\n",
    "pip install json\n",
    "pip install base64\n",
    "pip install sqlite3\n",
    "pip install win32crypt\n",
    "pip install Crypto \n",
    "Github-Repopip install shutil\n",
    "pip install datetime"
   ]
  }
 ],
 "metadata": {
  "kernelspec": {
   "display_name": "Python 3",
   "language": "python",
   "name": "python3"
  },
  "language_info": {
   "codemirror_mode": {
    "name": "ipython",
    "version": 3
   },
   "file_extension": ".py",
   "mimetype": "text/x-python",
   "name": "python",
   "nbconvert_exporter": "python",
   "pygments_lexer": "ipython3",
   "version": "3.8.8"
  }
 },
 "nbformat": 4,
 "nbformat_minor": 5
}
