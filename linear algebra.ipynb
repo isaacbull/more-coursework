{
 "cells": [
  {
   "cell_type": "markdown",
   "id": "074ffd04-4e20-442a-b6e7-5503db207958",
   "metadata": {},
   "source": [
    "On this notebook we will be writing computing linear algebraic calculations using numpy and sympy\n",
    "- Numpy is a numerical computation library that is good for creating matrices\n",
    "    - NumPy is a library for the Python programming language, that adds support for large, multi-dimensional arrays and matrices, along with a large collection of high-level mathematical functions to operate on these arrays\n",
    "- Sympy is a Python library for symbolic mathematics/computation. It provides computer algebra capabilities either as a standalone application, as a library to other applications, or live on the web as SymPy Live or SymPy Gamma\n",
    "\n",
    "And the random number to generate random integers"
   ]
  },
  {
   "cell_type": "code",
   "execution_count": 2,
   "id": "320a6bb8-0052-4c83-afc9-a55d36dd1853",
   "metadata": {},
   "outputs": [],
   "source": [
    "import numpy as np\n",
    "import sympy as sy\n",
    "import random\n"
   ]
  },
  {
   "cell_type": "markdown",
   "id": "38d94357-2b82-4cd3-9f29-585ff99dbfd3",
   "metadata": {},
   "source": [
    "to build our matrix we will use the Matrix object from sympy library. A matrix is constructed by providing a list of row vectors that make up the matrix."
   ]
  },
  {
   "cell_type": "code",
   "execution_count": 4,
   "id": "d9bf4fb3-41e3-4198-93de-c2046af588de",
   "metadata": {},
   "outputs": [
    {
     "data": {
      "text/latex": [
       "$\\displaystyle \\left[\\begin{matrix}3 & 4 & 5\\\\93 & 40 & 2\\\\28 & 218 & 8\\end{matrix}\\right]$"
      ],
      "text/plain": [
       "Matrix([\n",
       "[ 3,   4, 5],\n",
       "[93,  40, 2],\n",
       "[28, 218, 8]])"
      ]
     },
     "execution_count": 4,
     "metadata": {},
     "output_type": "execute_result"
    }
   ],
   "source": [
    "L = sy.Matrix([[3,4,5],[93,40,2],[28,-218,8]])\n",
    "L"
   ]
  },
  {
   "cell_type": "code",
   "execution_count": 5,
   "id": "aa9d4ab3-451f-417c-8fc6-319fba540d0a",
   "metadata": {},
   "outputs": [
    {
     "data": {
      "text/latex": [
       "$\\displaystyle 92670$"
      ],
      "text/plain": [
       "92670"
      ]
     },
     "execution_count": 5,
     "metadata": {},
     "output_type": "execute_result"
    }
   ],
   "source": [
    "L.det()"
   ]
  },
  {
   "cell_type": "markdown",
   "id": "83c56663-8bce-49f0-9234-ec17f5473636",
   "metadata": {},
   "source": [
    "if each of the element of the second row of a matrix is 2 times the first row, then its determinat would give us 0"
   ]
  },
  {
   "cell_type": "code",
   "execution_count": 7,
   "id": "470496ca-9e28-48f1-bc4c-f3c15a15545d",
   "metadata": {},
   "outputs": [
    {
     "data": {
      "text/latex": [
       "$\\displaystyle \\left[\\begin{matrix}3 & 4 & 5\\\\6 & 8 & 10\\\\28 & -218 & 8\\end{matrix}\\right]$"
      ],
      "text/plain": [
       "Matrix([\n",
       "[ 3,    4,  5],\n",
       "[ 6,    8, 10],\n",
       "[28, -218,  8]])"
      ]
     },
     "execution_count": 7,
     "metadata": {},
     "output_type": "execute_result"
    }
   ],
   "source": [
    "M = sy.Matrix([[3,4,5],[6,8,10],[28,-218,8]])\n",
    "M"
   ]
  },
  {
   "cell_type": "code",
   "execution_count": 8,
   "id": "a51b2f81-6b3e-4b5a-a469-d70866f84c8b",
   "metadata": {},
   "outputs": [
    {
     "data": {
      "text/latex": [
       "$\\displaystyle 0$"
      ],
      "text/plain": [
       "0"
      ]
     },
     "execution_count": 8,
     "metadata": {},
     "output_type": "execute_result"
    }
   ],
   "source": [
    "M.det()"
   ]
  },
  {
   "cell_type": "markdown",
   "id": "1d038bb1-8209-4ef0-8460-6c59e0dacda3",
   "metadata": {},
   "source": [
    "if the first column is 3 times the third column of a matrix, then its determinant would also be 0\n",
    "see below:"
   ]
  },
  {
   "cell_type": "code",
   "execution_count": 9,
   "id": "b4472797-41bc-4cf0-9f8c-e27ed6aec52b",
   "metadata": {},
   "outputs": [
    {
     "data": {
      "text/latex": [
       "$\\displaystyle \\left[\\begin{matrix}15 & 4 & 5\\\\30 & 8 & 10\\\\24 & -218 & 8\\end{matrix}\\right]$"
      ],
      "text/plain": [
       "Matrix([\n",
       "[15,    4,  5],\n",
       "[30,    8, 10],\n",
       "[24, -218,  8]])"
      ]
     },
     "execution_count": 9,
     "metadata": {},
     "output_type": "execute_result"
    }
   ],
   "source": [
    "o = sy.Matrix([[15,4,5],[30,8,10],[24,-218,8]])\n",
    "o"
   ]
  },
  {
   "cell_type": "code",
   "execution_count": 10,
   "id": "79c1f9c8-43af-4403-b59c-26e4d249c87b",
   "metadata": {},
   "outputs": [
    {
     "data": {
      "text/latex": [
       "$\\displaystyle 0$"
      ],
      "text/plain": [
       "0"
      ]
     },
     "execution_count": 10,
     "metadata": {},
     "output_type": "execute_result"
    }
   ],
   "source": [
    "o.det()"
   ]
  },
  {
   "cell_type": "markdown",
   "id": "b4b8222c-fe69-4acc-9654-aa54a0d63805",
   "metadata": {},
   "source": [
    "and if one of the rows is entirely zero then the determinant would also be 0 and this property is the same for columns and they are true for a numpy matrix"
   ]
  },
  {
   "cell_type": "code",
   "execution_count": 12,
   "id": "dabc8e1d-cf1c-4e92-8535-da13dab659c9",
   "metadata": {},
   "outputs": [
    {
     "data": {
      "text/latex": [
       "$\\displaystyle \\left[\\begin{matrix}3 & 4 & 5\\\\0 & 0 & 0\\\\28 & -218 & 8\\end{matrix}\\right]$"
      ],
      "text/plain": [
       "Matrix([\n",
       "[ 3,    4, 5],\n",
       "[ 0,    0, 0],\n",
       "[28, -218, 8]])"
      ]
     },
     "execution_count": 12,
     "metadata": {},
     "output_type": "execute_result"
    }
   ],
   "source": [
    "g = sy.Matrix([[3,4,5],[0,0,0],[28,-218,8]])\n",
    "g"
   ]
  },
  {
   "cell_type": "code",
   "execution_count": 15,
   "id": "ef43336b-f8bf-4c9f-bef8-4590d20eac40",
   "metadata": {},
   "outputs": [
    {
     "name": "stdout",
     "output_type": "stream",
     "text": [
      "0\n"
     ]
    }
   ],
   "source": [
    "zero_row_det = g.det()\n",
    "print(zero_row_det)"
   ]
  },
  {
   "cell_type": "code",
   "execution_count": 16,
   "id": "eb6ab7be-7d96-4dd6-a347-618613e317e5",
   "metadata": {},
   "outputs": [
    {
     "data": {
      "text/plain": [
       "array([[   3,    4,    5],\n",
       "       [   6,    8,   10],\n",
       "       [  28, -218,    8]])"
      ]
     },
     "execution_count": 16,
     "metadata": {},
     "output_type": "execute_result"
    }
   ],
   "source": [
    "numpy_matrix_determinant = np.array([[3,4,5],[6,8,10],[28,-218,8]])\n",
    "numpy_matrix_determinant"
   ]
  },
  {
   "cell_type": "code",
   "execution_count": 17,
   "id": "306e50b3-c3dc-4479-9a4c-1b8738c60ee3",
   "metadata": {},
   "outputs": [
    {
     "data": {
      "text/plain": [
       "0.0"
      ]
     },
     "execution_count": 17,
     "metadata": {},
     "output_type": "execute_result"
    }
   ],
   "source": [
    "np.linalg.det(numpy_matrix_determinant)"
   ]
  },
  {
   "cell_type": "markdown",
   "id": "043644af-7de5-4a9c-abb8-55aec357a9c1",
   "metadata": {},
   "source": [
    "determinants and its properties only work for square matrix (n by n matrix), if the metrix isnt a square matrix then it would throw an error \n",
    "like the code below"
   ]
  },
  {
   "cell_type": "code",
   "execution_count": 19,
   "id": "0419f704-b62c-4dad-9ea1-01542522f750",
   "metadata": {
    "collapsed": true,
    "jupyter": {
     "outputs_hidden": true
    },
    "tags": []
   },
   "outputs": [
    {
     "ename": "NonSquareMatrixError",
     "evalue": "",
     "output_type": "error",
     "traceback": [
      "\u001b[0;31m---------------------------------------------------------------------------\u001b[0m",
      "\u001b[0;31mNonSquareMatrixError\u001b[0m                      Traceback (most recent call last)",
      "\u001b[0;32m<ipython-input-19-724497efd3e3>\u001b[0m in \u001b[0;36m<module>\u001b[0;34m\u001b[0m\n\u001b[1;32m      1\u001b[0m \u001b[0mnon_sq\u001b[0m \u001b[0;34m=\u001b[0m \u001b[0msy\u001b[0m\u001b[0;34m.\u001b[0m\u001b[0mMatrix\u001b[0m\u001b[0;34m(\u001b[0m\u001b[0;34m[\u001b[0m\u001b[0;34m[\u001b[0m\u001b[0;36m3\u001b[0m\u001b[0;34m,\u001b[0m\u001b[0;36m4\u001b[0m\u001b[0;34m]\u001b[0m\u001b[0;34m,\u001b[0m\u001b[0;34m[\u001b[0m\u001b[0;36m6\u001b[0m\u001b[0;34m,\u001b[0m\u001b[0;36m8\u001b[0m\u001b[0;34m]\u001b[0m\u001b[0;34m,\u001b[0m\u001b[0;34m[\u001b[0m\u001b[0;36m28\u001b[0m\u001b[0;34m,\u001b[0m\u001b[0;36m8\u001b[0m\u001b[0;34m]\u001b[0m\u001b[0;34m]\u001b[0m\u001b[0;34m)\u001b[0m\u001b[0;34m\u001b[0m\u001b[0;34m\u001b[0m\u001b[0m\n\u001b[1;32m      2\u001b[0m \u001b[0mnon_sq\u001b[0m\u001b[0;34m\u001b[0m\u001b[0;34m\u001b[0m\u001b[0m\n\u001b[0;32m----> 3\u001b[0;31m \u001b[0mnon_sq_det\u001b[0m \u001b[0;34m=\u001b[0m \u001b[0mnon_sq\u001b[0m\u001b[0;34m.\u001b[0m\u001b[0mdet\u001b[0m\u001b[0;34m(\u001b[0m\u001b[0;34m)\u001b[0m\u001b[0;34m\u001b[0m\u001b[0;34m\u001b[0m\u001b[0m\n\u001b[0m\u001b[1;32m      4\u001b[0m \u001b[0mnon_sq_det\u001b[0m\u001b[0;34m\u001b[0m\u001b[0;34m\u001b[0m\u001b[0m\n",
      "\u001b[0;32m/Users/daddy/opt/anaconda3/lib/python3.8/site-packages/sympy/matrices/matrices.py\u001b[0m in \u001b[0;36mdet\u001b[0;34m(self, method, iszerofunc)\u001b[0m\n\u001b[1;32m    124\u001b[0m \u001b[0;34m\u001b[0m\u001b[0m\n\u001b[1;32m    125\u001b[0m     \u001b[0;32mdef\u001b[0m \u001b[0mdet\u001b[0m\u001b[0;34m(\u001b[0m\u001b[0mself\u001b[0m\u001b[0;34m,\u001b[0m \u001b[0mmethod\u001b[0m\u001b[0;34m=\u001b[0m\u001b[0;34m\"bareiss\"\u001b[0m\u001b[0;34m,\u001b[0m \u001b[0miszerofunc\u001b[0m\u001b[0;34m=\u001b[0m\u001b[0;32mNone\u001b[0m\u001b[0;34m)\u001b[0m\u001b[0;34m:\u001b[0m\u001b[0;34m\u001b[0m\u001b[0;34m\u001b[0m\u001b[0m\n\u001b[0;32m--> 126\u001b[0;31m         \u001b[0;32mreturn\u001b[0m \u001b[0m_det\u001b[0m\u001b[0;34m(\u001b[0m\u001b[0mself\u001b[0m\u001b[0;34m,\u001b[0m \u001b[0mmethod\u001b[0m\u001b[0;34m=\u001b[0m\u001b[0mmethod\u001b[0m\u001b[0;34m,\u001b[0m \u001b[0miszerofunc\u001b[0m\u001b[0;34m=\u001b[0m\u001b[0miszerofunc\u001b[0m\u001b[0;34m)\u001b[0m\u001b[0;34m\u001b[0m\u001b[0;34m\u001b[0m\u001b[0m\n\u001b[0m\u001b[1;32m    127\u001b[0m \u001b[0;34m\u001b[0m\u001b[0m\n\u001b[1;32m    128\u001b[0m     \u001b[0;32mdef\u001b[0m \u001b[0mper\u001b[0m\u001b[0;34m(\u001b[0m\u001b[0mself\u001b[0m\u001b[0;34m)\u001b[0m\u001b[0;34m:\u001b[0m\u001b[0;34m\u001b[0m\u001b[0;34m\u001b[0m\u001b[0m\n",
      "\u001b[0;32m/Users/daddy/opt/anaconda3/lib/python3.8/site-packages/sympy/matrices/determinant.py\u001b[0m in \u001b[0;36m_det\u001b[0;34m(M, method, iszerofunc)\u001b[0m\n\u001b[1;32m    671\u001b[0m \u001b[0;34m\u001b[0m\u001b[0m\n\u001b[1;32m    672\u001b[0m     \u001b[0;32mif\u001b[0m \u001b[0mmethod\u001b[0m \u001b[0;34m==\u001b[0m \u001b[0;34m\"bareiss\"\u001b[0m\u001b[0;34m:\u001b[0m\u001b[0;34m\u001b[0m\u001b[0;34m\u001b[0m\u001b[0m\n\u001b[0;32m--> 673\u001b[0;31m         \u001b[0;32mreturn\u001b[0m \u001b[0mM\u001b[0m\u001b[0;34m.\u001b[0m\u001b[0m_eval_det_bareiss\u001b[0m\u001b[0;34m(\u001b[0m\u001b[0miszerofunc\u001b[0m\u001b[0;34m=\u001b[0m\u001b[0miszerofunc\u001b[0m\u001b[0;34m)\u001b[0m\u001b[0;34m\u001b[0m\u001b[0;34m\u001b[0m\u001b[0m\n\u001b[0m\u001b[1;32m    674\u001b[0m     \u001b[0;32melif\u001b[0m \u001b[0mmethod\u001b[0m \u001b[0;34m==\u001b[0m \u001b[0;34m\"berkowitz\"\u001b[0m\u001b[0;34m:\u001b[0m\u001b[0;34m\u001b[0m\u001b[0;34m\u001b[0m\u001b[0m\n\u001b[1;32m    675\u001b[0m         \u001b[0;32mreturn\u001b[0m \u001b[0mM\u001b[0m\u001b[0;34m.\u001b[0m\u001b[0m_eval_det_berkowitz\u001b[0m\u001b[0;34m(\u001b[0m\u001b[0;34m)\u001b[0m\u001b[0;34m\u001b[0m\u001b[0;34m\u001b[0m\u001b[0m\n",
      "\u001b[0;32m/Users/daddy/opt/anaconda3/lib/python3.8/site-packages/sympy/matrices/matrices.py\u001b[0m in \u001b[0;36m_eval_det_bareiss\u001b[0;34m(self, iszerofunc)\u001b[0m\n\u001b[1;32m    100\u001b[0m \u001b[0;34m\u001b[0m\u001b[0m\n\u001b[1;32m    101\u001b[0m     \u001b[0;32mdef\u001b[0m \u001b[0m_eval_det_bareiss\u001b[0m\u001b[0;34m(\u001b[0m\u001b[0mself\u001b[0m\u001b[0;34m,\u001b[0m \u001b[0miszerofunc\u001b[0m\u001b[0;34m=\u001b[0m\u001b[0m_is_zero_after_expand_mul\u001b[0m\u001b[0;34m)\u001b[0m\u001b[0;34m:\u001b[0m\u001b[0;34m\u001b[0m\u001b[0;34m\u001b[0m\u001b[0m\n\u001b[0;32m--> 102\u001b[0;31m         \u001b[0;32mreturn\u001b[0m \u001b[0m_det_bareiss\u001b[0m\u001b[0;34m(\u001b[0m\u001b[0mself\u001b[0m\u001b[0;34m,\u001b[0m \u001b[0miszerofunc\u001b[0m\u001b[0;34m=\u001b[0m\u001b[0miszerofunc\u001b[0m\u001b[0;34m)\u001b[0m\u001b[0;34m\u001b[0m\u001b[0;34m\u001b[0m\u001b[0m\n\u001b[0m\u001b[1;32m    103\u001b[0m \u001b[0;34m\u001b[0m\u001b[0m\n\u001b[1;32m    104\u001b[0m     \u001b[0;32mdef\u001b[0m \u001b[0m_eval_det_berkowitz\u001b[0m\u001b[0;34m(\u001b[0m\u001b[0mself\u001b[0m\u001b[0;34m)\u001b[0m\u001b[0;34m:\u001b[0m\u001b[0;34m\u001b[0m\u001b[0;34m\u001b[0m\u001b[0m\n",
      "\u001b[0;32m/Users/daddy/opt/anaconda3/lib/python3.8/site-packages/sympy/matrices/determinant.py\u001b[0m in \u001b[0;36m_det_bareiss\u001b[0;34m(M, iszerofunc)\u001b[0m\n\u001b[1;32m    736\u001b[0m \u001b[0;34m\u001b[0m\u001b[0m\n\u001b[1;32m    737\u001b[0m     \u001b[0;32mif\u001b[0m \u001b[0;32mnot\u001b[0m \u001b[0mM\u001b[0m\u001b[0;34m.\u001b[0m\u001b[0mis_square\u001b[0m\u001b[0;34m:\u001b[0m\u001b[0;34m\u001b[0m\u001b[0;34m\u001b[0m\u001b[0m\n\u001b[0;32m--> 738\u001b[0;31m         \u001b[0;32mraise\u001b[0m \u001b[0mNonSquareMatrixError\u001b[0m\u001b[0;34m(\u001b[0m\u001b[0;34m)\u001b[0m\u001b[0;34m\u001b[0m\u001b[0;34m\u001b[0m\u001b[0m\n\u001b[0m\u001b[1;32m    739\u001b[0m \u001b[0;34m\u001b[0m\u001b[0m\n\u001b[1;32m    740\u001b[0m     \u001b[0;32mif\u001b[0m \u001b[0mM\u001b[0m\u001b[0;34m.\u001b[0m\u001b[0mrows\u001b[0m \u001b[0;34m==\u001b[0m \u001b[0;36m0\u001b[0m\u001b[0;34m:\u001b[0m\u001b[0;34m\u001b[0m\u001b[0;34m\u001b[0m\u001b[0m\n",
      "\u001b[0;31mNonSquareMatrixError\u001b[0m: "
     ]
    }
   ],
   "source": [
    "non_sq = sy.Matrix([[3,4],[6,8],[28,8]])\n",
    "non_sq\n",
    "non_sq_det = non_sq.det()\n",
    "non_sq_det"
   ]
  },
  {
   "cell_type": "code",
   "execution_count": 22,
   "id": "e1d63a1f-55bf-4b2a-a8bf-0698316dbba9",
   "metadata": {},
   "outputs": [
    {
     "data": {
      "text/latex": [
       "$\\displaystyle \\left[\\begin{matrix}4 & 2\\\\-1 & 1\\end{matrix}\\right]$"
      ],
      "text/plain": [
       "Matrix([\n",
       "[ 4, 2],\n",
       "[-1, 1]])"
      ]
     },
     "execution_count": 22,
     "metadata": {},
     "output_type": "execute_result"
    }
   ],
   "source": [
    "assignment = sy.Matrix([[4,2],[-1,1]])\n",
    "assignment"
   ]
  },
  {
   "cell_type": "code",
   "execution_count": 23,
   "id": "a143c6fa-c4d1-4aa9-885b-1d96e55d7463",
   "metadata": {},
   "outputs": [
    {
     "data": {
      "text/latex": [
       "$\\displaystyle 6$"
      ],
      "text/plain": [
       "6"
      ]
     },
     "execution_count": 23,
     "metadata": {},
     "output_type": "execute_result"
    }
   ],
   "source": [
    "assignment.det()"
   ]
  },
  {
   "cell_type": "code",
   "execution_count": 24,
   "id": "356a2226-1a8f-4ccc-a607-8fe077309b6c",
   "metadata": {},
   "outputs": [
    {
     "data": {
      "text/latex": [
       "$\\displaystyle 6$"
      ],
      "text/plain": [
       "6"
      ]
     },
     "execution_count": 24,
     "metadata": {},
     "output_type": "execute_result"
    }
   ],
   "source": [
    "sy.det(assignment)"
   ]
  },
  {
   "cell_type": "markdown",
   "id": "10337a5f-09f6-4107-807e-aeb7a2897204",
   "metadata": {},
   "source": [
    "products are done on scalar numbers and matrixes from scalar to the rows of the matrix!\n",
    "and you can only take a product of two matrices if the number of columns is equal to the number of row\n",
    "also when multiplying matrices always know that E * D is not always equal to D * E, it can be the same for some other operations but not for matrices\n",
    "\n",
    "the entry is coming from each row times each column and that determines its position in the matrix\n",
    "\n",
    "the result of the product would be a matrix?\n",
    "\n",
    "symbols\n",
    "- product = .\n",
    "- inverse is super script -1\n",
    "- det is two bars to replace the matrix bars or just det"
   ]
  },
  {
   "cell_type": "markdown",
   "id": "01702d15-b3d1-4d71-98d6-711b5fc54b91",
   "metadata": {},
   "source": [
    "gausian elimination is used to find the inverse of a matrix \n",
    "if a matrix determinants is 0 then it has no inverse."
   ]
  },
  {
   "cell_type": "code",
   "execution_count": 25,
   "id": "0d675cdb-b4b1-4b2e-9e12-cea7e02d2b18",
   "metadata": {},
   "outputs": [
    {
     "data": {
      "text/latex": [
       "$\\displaystyle \\left[\\begin{matrix}1 & 0 & 1\\\\1 & 0 & 0\\\\2 & 1 & 1\\end{matrix}\\right]$"
      ],
      "text/plain": [
       "Matrix([\n",
       "[1, 0, 1],\n",
       "[1, 0, 0],\n",
       "[2, 1, 1]])"
      ]
     },
     "execution_count": 25,
     "metadata": {},
     "output_type": "execute_result"
    }
   ],
   "source": [
    "a = sy.Matrix([[1,0,1],[1,0,0],[2,1,1]])\n",
    "a"
   ]
  },
  {
   "cell_type": "code",
   "execution_count": 53,
   "id": "61ff4128-3d3b-4265-9c80-8ee8d580058f",
   "metadata": {},
   "outputs": [
    {
     "data": {
      "text/latex": [
       "$\\displaystyle 1$"
      ],
      "text/plain": [
       "1"
      ]
     },
     "execution_count": 53,
     "metadata": {},
     "output_type": "execute_result"
    }
   ],
   "source": [
    "a_det = a.det()\n",
    "a_det"
   ]
  },
  {
   "cell_type": "code",
   "execution_count": 50,
   "id": "f0dbdb02-4987-4fbe-b2ce-70d99f3340ae",
   "metadata": {},
   "outputs": [],
   "source": [
    "a_det_times_2 = sy.det(2 * a)"
   ]
  },
  {
   "cell_type": "code",
   "execution_count": 51,
   "id": "f7d804f9-1849-4139-aca1-521e9111161e",
   "metadata": {},
   "outputs": [
    {
     "data": {
      "text/latex": [
       "$\\displaystyle 8$"
      ],
      "text/plain": [
       "8"
      ]
     },
     "execution_count": 51,
     "metadata": {},
     "output_type": "execute_result"
    }
   ],
   "source": [
    "a_det_times_2"
   ]
  },
  {
   "cell_type": "code",
   "execution_count": 30,
   "id": "2cf3787f-c1bd-468a-935b-9ad12fa9ebba",
   "metadata": {},
   "outputs": [
    {
     "data": {
      "text/latex": [
       "$\\displaystyle \\left[\\begin{matrix}0 & 1 & 0\\\\-1 & -1 & 1\\\\1 & -1 & 0\\end{matrix}\\right]$"
      ],
      "text/plain": [
       "Matrix([\n",
       "[ 0,  1, 0],\n",
       "[-1, -1, 1],\n",
       "[ 1, -1, 0]])"
      ]
     },
     "execution_count": 30,
     "metadata": {},
     "output_type": "execute_result"
    }
   ],
   "source": [
    "a.inv()"
   ]
  },
  {
   "cell_type": "code",
   "execution_count": 31,
   "id": "716e57c3-3cc8-4440-8302-88de8329ece5",
   "metadata": {},
   "outputs": [
    {
     "data": {
      "text/latex": [
       "$\\displaystyle \\left[\\begin{matrix}2 & 1\\\\0 & 0.5\\end{matrix}\\right]$"
      ],
      "text/plain": [
       "Matrix([\n",
       "[2,   1],\n",
       "[0, 0.5]])"
      ]
     },
     "execution_count": 31,
     "metadata": {},
     "output_type": "execute_result"
    }
   ],
   "source": [
    "new_a = sy.Matrix([[2,1],[0,0.5]])\n",
    "new_a"
   ]
  },
  {
   "cell_type": "code",
   "execution_count": 32,
   "id": "3594b56a-2b2c-4125-abcb-e0df98ac4989",
   "metadata": {},
   "outputs": [
    {
     "data": {
      "text/latex": [
       "$\\displaystyle 1.0$"
      ],
      "text/plain": [
       "1.00000000000000"
      ]
     },
     "execution_count": 32,
     "metadata": {},
     "output_type": "execute_result"
    }
   ],
   "source": [
    "new_a.det()"
   ]
  },
  {
   "cell_type": "code",
   "execution_count": 33,
   "id": "93cec89f-8859-44a4-8651-5a9e848ef4c6",
   "metadata": {},
   "outputs": [
    {
     "data": {
      "text/latex": [
       "$\\displaystyle \\left[\\begin{matrix}0.5 & -1.0\\\\0 & 2.0\\end{matrix}\\right]$"
      ],
      "text/plain": [
       "Matrix([\n",
       "[0.5, -1.0],\n",
       "[  0,  2.0]])"
      ]
     },
     "execution_count": 33,
     "metadata": {},
     "output_type": "execute_result"
    }
   ],
   "source": [
    "new_a.inv()"
   ]
  },
  {
   "cell_type": "code",
   "execution_count": 34,
   "id": "434276d3-c275-416f-8288-37abc0d92e94",
   "metadata": {},
   "outputs": [
    {
     "data": {
      "text/latex": [
       "$\\displaystyle \\left[\\begin{matrix}2 & 1\\\\1 & 2\\end{matrix}\\right]$"
      ],
      "text/plain": [
       "Matrix([\n",
       "[2, 1],\n",
       "[1, 2]])"
      ]
     },
     "execution_count": 34,
     "metadata": {},
     "output_type": "execute_result"
    }
   ],
   "source": [
    "new_a1 = sy.Matrix([[2,1],[1,2]])\n",
    "new_a1"
   ]
  },
  {
   "cell_type": "code",
   "execution_count": 37,
   "id": "2b1f8186-fa63-416f-80a0-570feefb6077",
   "metadata": {},
   "outputs": [
    {
     "data": {
      "text/latex": [
       "$\\displaystyle \\left[\\begin{matrix}\\frac{2}{3} & - \\frac{1}{3}\\\\- \\frac{1}{3} & \\frac{2}{3}\\end{matrix}\\right]$"
      ],
      "text/plain": [
       "Matrix([\n",
       "[ 2/3, -1/3],\n",
       "[-1/3,  2/3]])"
      ]
     },
     "execution_count": 37,
     "metadata": {},
     "output_type": "execute_result"
    }
   ],
   "source": [
    "new_a1.inv()"
   ]
  },
  {
   "cell_type": "markdown",
   "id": "a916a06e-a8d3-4952-81f5-793dfe7fb2ba",
   "metadata": {},
   "source": [
    "below we will test what will happen if we try to inverse a 3 x 4 matrix"
   ]
  },
  {
   "cell_type": "code",
   "execution_count": 38,
   "id": "79bcd16e-6cd6-4c32-b376-37f09f87154b",
   "metadata": {},
   "outputs": [
    {
     "data": {
      "text/latex": [
       "$\\displaystyle \\left[\\begin{matrix}3 & 4 & 5 & 4\\\\6 & 8 & 10 & 8\\\\28 & -218 & 8 & 8\\end{matrix}\\right]$"
      ],
      "text/plain": [
       "Matrix([\n",
       "[ 3,    4,  5, 4],\n",
       "[ 6,    8, 10, 8],\n",
       "[28, -218,  8, 8]])"
      ]
     },
     "execution_count": 38,
     "metadata": {},
     "output_type": "execute_result"
    }
   ],
   "source": [
    "three_by_four = sy.Matrix([[3,4,5,4],[6,8,10,8],[28,-218,8,8]])\n",
    "three_by_four"
   ]
  },
  {
   "cell_type": "code",
   "execution_count": 39,
   "id": "bde43aa1-9ca6-4a1d-bd96-eb2a3f971556",
   "metadata": {
    "collapsed": true,
    "jupyter": {
     "outputs_hidden": true
    },
    "tags": []
   },
   "outputs": [
    {
     "ename": "NonSquareMatrixError",
     "evalue": "A Matrix must be square to invert.",
     "output_type": "error",
     "traceback": [
      "\u001b[0;31m---------------------------------------------------------------------------\u001b[0m",
      "\u001b[0;31mNonSquareMatrixError\u001b[0m                      Traceback (most recent call last)",
      "\u001b[0;32m<ipython-input-39-08ca78a1b46b>\u001b[0m in \u001b[0;36m<module>\u001b[0;34m\u001b[0m\n\u001b[0;32m----> 1\u001b[0;31m \u001b[0mthree_by_four\u001b[0m\u001b[0;34m.\u001b[0m\u001b[0minv\u001b[0m\u001b[0;34m(\u001b[0m\u001b[0;34m)\u001b[0m\u001b[0;34m\u001b[0m\u001b[0;34m\u001b[0m\u001b[0m\n\u001b[0m",
      "\u001b[0;32m/Users/daddy/opt/anaconda3/lib/python3.8/site-packages/sympy/matrices/matrices.py\u001b[0m in \u001b[0;36minv\u001b[0;34m(self, method, iszerofunc, try_block_diag)\u001b[0m\n\u001b[1;32m   2197\u001b[0m \u001b[0;34m\u001b[0m\u001b[0m\n\u001b[1;32m   2198\u001b[0m     \u001b[0;32mdef\u001b[0m \u001b[0minv\u001b[0m\u001b[0;34m(\u001b[0m\u001b[0mself\u001b[0m\u001b[0;34m,\u001b[0m \u001b[0mmethod\u001b[0m\u001b[0;34m=\u001b[0m\u001b[0;32mNone\u001b[0m\u001b[0;34m,\u001b[0m \u001b[0miszerofunc\u001b[0m\u001b[0;34m=\u001b[0m\u001b[0m_iszero\u001b[0m\u001b[0;34m,\u001b[0m \u001b[0mtry_block_diag\u001b[0m\u001b[0;34m=\u001b[0m\u001b[0;32mFalse\u001b[0m\u001b[0;34m)\u001b[0m\u001b[0;34m:\u001b[0m\u001b[0;34m\u001b[0m\u001b[0;34m\u001b[0m\u001b[0m\n\u001b[0;32m-> 2199\u001b[0;31m         return _inv(self, method=method, iszerofunc=iszerofunc,\n\u001b[0m\u001b[1;32m   2200\u001b[0m                 try_block_diag=try_block_diag)\n\u001b[1;32m   2201\u001b[0m \u001b[0;34m\u001b[0m\u001b[0m\n",
      "\u001b[0;32m/Users/daddy/opt/anaconda3/lib/python3.8/site-packages/sympy/matrices/inverse.py\u001b[0m in \u001b[0;36m_inv\u001b[0;34m(M, method, iszerofunc, try_block_diag)\u001b[0m\n\u001b[1;32m    457\u001b[0m \u001b[0;34m\u001b[0m\u001b[0m\n\u001b[1;32m    458\u001b[0m     \u001b[0;32mif\u001b[0m \u001b[0mmethod\u001b[0m \u001b[0;34m==\u001b[0m \u001b[0;34m\"GE\"\u001b[0m\u001b[0;34m:\u001b[0m\u001b[0;34m\u001b[0m\u001b[0;34m\u001b[0m\u001b[0m\n\u001b[0;32m--> 459\u001b[0;31m         \u001b[0mrv\u001b[0m \u001b[0;34m=\u001b[0m \u001b[0mM\u001b[0m\u001b[0;34m.\u001b[0m\u001b[0minverse_GE\u001b[0m\u001b[0;34m(\u001b[0m\u001b[0miszerofunc\u001b[0m\u001b[0;34m=\u001b[0m\u001b[0miszerofunc\u001b[0m\u001b[0;34m)\u001b[0m\u001b[0;34m\u001b[0m\u001b[0;34m\u001b[0m\u001b[0m\n\u001b[0m\u001b[1;32m    460\u001b[0m     \u001b[0;32melif\u001b[0m \u001b[0mmethod\u001b[0m \u001b[0;34m==\u001b[0m \u001b[0;34m\"LU\"\u001b[0m\u001b[0;34m:\u001b[0m\u001b[0;34m\u001b[0m\u001b[0;34m\u001b[0m\u001b[0m\n\u001b[1;32m    461\u001b[0m         \u001b[0mrv\u001b[0m \u001b[0;34m=\u001b[0m \u001b[0mM\u001b[0m\u001b[0;34m.\u001b[0m\u001b[0minverse_LU\u001b[0m\u001b[0;34m(\u001b[0m\u001b[0miszerofunc\u001b[0m\u001b[0;34m=\u001b[0m\u001b[0miszerofunc\u001b[0m\u001b[0;34m)\u001b[0m\u001b[0;34m\u001b[0m\u001b[0;34m\u001b[0m\u001b[0m\n",
      "\u001b[0;32m/Users/daddy/opt/anaconda3/lib/python3.8/site-packages/sympy/matrices/matrices.py\u001b[0m in \u001b[0;36minverse_GE\u001b[0;34m(self, iszerofunc)\u001b[0m\n\u001b[1;32m   2182\u001b[0m \u001b[0;34m\u001b[0m\u001b[0m\n\u001b[1;32m   2183\u001b[0m     \u001b[0;32mdef\u001b[0m \u001b[0minverse_GE\u001b[0m\u001b[0;34m(\u001b[0m\u001b[0mself\u001b[0m\u001b[0;34m,\u001b[0m \u001b[0miszerofunc\u001b[0m\u001b[0;34m=\u001b[0m\u001b[0m_iszero\u001b[0m\u001b[0;34m)\u001b[0m\u001b[0;34m:\u001b[0m\u001b[0;34m\u001b[0m\u001b[0;34m\u001b[0m\u001b[0m\n\u001b[0;32m-> 2184\u001b[0;31m         \u001b[0;32mreturn\u001b[0m \u001b[0m_inv_GE\u001b[0m\u001b[0;34m(\u001b[0m\u001b[0mself\u001b[0m\u001b[0;34m,\u001b[0m \u001b[0miszerofunc\u001b[0m\u001b[0;34m=\u001b[0m\u001b[0miszerofunc\u001b[0m\u001b[0;34m)\u001b[0m\u001b[0;34m\u001b[0m\u001b[0;34m\u001b[0m\u001b[0m\n\u001b[0m\u001b[1;32m   2185\u001b[0m \u001b[0;34m\u001b[0m\u001b[0m\n\u001b[1;32m   2186\u001b[0m     \u001b[0;32mdef\u001b[0m \u001b[0minverse_LU\u001b[0m\u001b[0;34m(\u001b[0m\u001b[0mself\u001b[0m\u001b[0;34m,\u001b[0m \u001b[0miszerofunc\u001b[0m\u001b[0;34m=\u001b[0m\u001b[0m_iszero\u001b[0m\u001b[0;34m)\u001b[0m\u001b[0;34m:\u001b[0m\u001b[0;34m\u001b[0m\u001b[0;34m\u001b[0m\u001b[0m\n",
      "\u001b[0;32m/Users/daddy/opt/anaconda3/lib/python3.8/site-packages/sympy/matrices/inverse.py\u001b[0m in \u001b[0;36m_inv_GE\u001b[0;34m(M, iszerofunc)\u001b[0m\n\u001b[1;32m    237\u001b[0m \u001b[0;34m\u001b[0m\u001b[0m\n\u001b[1;32m    238\u001b[0m     \u001b[0;32mif\u001b[0m \u001b[0;32mnot\u001b[0m \u001b[0mM\u001b[0m\u001b[0;34m.\u001b[0m\u001b[0mis_square\u001b[0m\u001b[0;34m:\u001b[0m\u001b[0;34m\u001b[0m\u001b[0;34m\u001b[0m\u001b[0m\n\u001b[0;32m--> 239\u001b[0;31m         \u001b[0;32mraise\u001b[0m \u001b[0mNonSquareMatrixError\u001b[0m\u001b[0;34m(\u001b[0m\u001b[0;34m\"A Matrix must be square to invert.\"\u001b[0m\u001b[0;34m)\u001b[0m\u001b[0;34m\u001b[0m\u001b[0;34m\u001b[0m\u001b[0m\n\u001b[0m\u001b[1;32m    240\u001b[0m \u001b[0;34m\u001b[0m\u001b[0m\n\u001b[1;32m    241\u001b[0m     \u001b[0mbig\u001b[0m \u001b[0;34m=\u001b[0m \u001b[0mMatrix\u001b[0m\u001b[0;34m.\u001b[0m\u001b[0mhstack\u001b[0m\u001b[0;34m(\u001b[0m\u001b[0mM\u001b[0m\u001b[0;34m.\u001b[0m\u001b[0mas_mutable\u001b[0m\u001b[0;34m(\u001b[0m\u001b[0;34m)\u001b[0m\u001b[0;34m,\u001b[0m \u001b[0mMatrix\u001b[0m\u001b[0;34m.\u001b[0m\u001b[0meye\u001b[0m\u001b[0;34m(\u001b[0m\u001b[0mM\u001b[0m\u001b[0;34m.\u001b[0m\u001b[0mrows\u001b[0m\u001b[0;34m)\u001b[0m\u001b[0;34m)\u001b[0m\u001b[0;34m\u001b[0m\u001b[0;34m\u001b[0m\u001b[0m\n",
      "\u001b[0;31mNonSquareMatrixError\u001b[0m: A Matrix must be square to invert."
     ]
    }
   ],
   "source": [
    "three_by_four.inv()"
   ]
  },
  {
   "cell_type": "markdown",
   "id": "7a3073e8-6eeb-451a-98c9-64b7a6ac23df",
   "metadata": {},
   "source": [
    "we get a NonsquarematrixError"
   ]
  },
  {
   "cell_type": "code",
   "execution_count": 88,
   "id": "f891a666-71a6-46fc-96ee-5b177a226cbb",
   "metadata": {
    "tags": []
   },
   "outputs": [],
   "source": [
    "x = [110]\n",
    "y = 3\n",
    "k = 2\n",
    "def check_det():\n",
    "    for i in range(100):\n",
    "        questiontest = ([[y,i],[i,i+k]])\n",
    "        matrix_qtest = sy.Matrix(questiontest)\n",
    "        matrix_det = matrix_qtest.det()\n",
    "        print(matrix_det)\n",
    "    \n",
    "    "
   ]
  },
  {
   "cell_type": "code",
   "execution_count": 96,
   "id": "8a9b643e-438a-469c-97fd-7e6380969cf1",
   "metadata": {},
   "outputs": [],
   "source": [
    "y = 3\n",
    "k = 2\n",
    "def check_inv(n):\n",
    "    for x in range(n):\n",
    "        questiontest = ([[y,x],[x,x+k]])\n",
    "        matrix_qtest = sy.Matrix(questiontest)\n",
    "        matrix_inv = matrix_qtest.inv()\n",
    "        print(matrix_inv)\n",
    "    "
   ]
  },
  {
   "cell_type": "code",
   "execution_count": 98,
   "id": "1e7a8c8e-6476-41a3-9418-184fd9b5e3a8",
   "metadata": {},
   "outputs": [
    {
     "name": "stdout",
     "output_type": "stream",
     "text": [
      "Matrix([[1/3, 0], [0, 1/2]])\n",
      "Matrix([[3/8, -1/8], [-1/8, 3/8]])\n",
      "Matrix([[1/2, -1/4], [-1/4, 3/8]])\n",
      "Matrix([[5/6, -1/2], [-1/2, 1/2]])\n",
      "Matrix([[3, -2], [-2, 3/2]])\n",
      "Matrix([[-7/4, 5/4], [5/4, -3/4]])\n",
      "Matrix([[-2/3, 1/2], [1/2, -1/4]])\n",
      "Matrix([[-9/22, 7/22], [7/22, -3/22]])\n",
      "Matrix([[-5/17, 4/17], [4/17, -3/34]])\n",
      "Matrix([[-11/48, 3/16], [3/16, -1/16]])\n"
     ]
    }
   ],
   "source": [
    "check_inv(10)"
   ]
  },
  {
   "cell_type": "markdown",
   "id": "3c6b9cf4-19f6-43c7-9216-831977caed43",
   "metadata": {
    "tags": []
   },
   "source": [
    "### lesson learnt, no need to reinvent the wheel haha "
   ]
  },
  {
   "cell_type": "code",
   "execution_count": 48,
   "id": "f9fc8783-8cd8-493d-ae8f-2622c90fdadf",
   "metadata": {},
   "outputs": [
    {
     "data": {
      "text/latex": [
       "$\\displaystyle 8$"
      ],
      "text/plain": [
       "8"
      ]
     },
     "execution_count": 48,
     "metadata": {},
     "output_type": "execute_result"
    }
   ],
   "source": [
    "questiontest.det()"
   ]
  },
  {
   "cell_type": "code",
   "execution_count": 49,
   "id": "219c774f-0e21-4fc0-aafd-4550555d9b09",
   "metadata": {},
   "outputs": [
    {
     "data": {
      "text/latex": [
       "$\\displaystyle \\left[\\begin{matrix}\\frac{1}{2} & - \\frac{1}{4}\\\\- \\frac{1}{4} & \\frac{3}{8}\\end{matrix}\\right]$"
      ],
      "text/plain": [
       "Matrix([\n",
       "[ 1/2, -1/4],\n",
       "[-1/4,  3/8]])"
      ]
     },
     "execution_count": 49,
     "metadata": {},
     "output_type": "execute_result"
    }
   ],
   "source": [
    "questiontest.inv()"
   ]
  },
  {
   "cell_type": "code",
   "execution_count": null,
   "id": "c5c1644f-5ade-42b1-b836-e35fcd0727d1",
   "metadata": {},
   "outputs": [],
   "source": []
  }
 ],
 "metadata": {
  "kernelspec": {
   "display_name": "Python 3",
   "language": "python",
   "name": "python3"
  },
  "language_info": {
   "codemirror_mode": {
    "name": "ipython",
    "version": 3
   },
   "file_extension": ".py",
   "mimetype": "text/x-python",
   "name": "python",
   "nbconvert_exporter": "python",
   "pygments_lexer": "ipython3",
   "version": "3.8.8"
  }
 },
 "nbformat": 4,
 "nbformat_minor": 5
}
