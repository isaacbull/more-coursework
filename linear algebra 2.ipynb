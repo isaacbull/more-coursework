{
 "cells": [
  {
   "cell_type": "markdown",
   "id": "3fcac541-3e5a-4419-a419-72ad1c074368",
   "metadata": {},
   "source": [
    "## More Operations on Matrices and Vectors\n",
    "\n",
    "- For multiplication, you have to make sure the col dimension is equal to the row dimension of the other matrix \n",
    "- a transpose can also work, still depending on the dimension\n",
    "- for subtraction, you have to make sure its a square matrix on both sides or the matrices have the same dimension \n",
    "- we call a matrix whose determinant is 0 a singular matrix because its inverse would not exist"
   ]
  },
  {
   "cell_type": "code",
   "execution_count": 1,
   "id": "10b27ac5-7e6c-495d-812a-b16fc946f9f0",
   "metadata": {},
   "outputs": [],
   "source": [
    "import numpy as np\n",
    "import sympy as sy"
   ]
  },
  {
   "cell_type": "code",
   "execution_count": 3,
   "id": "2d578b54-d0c7-42c8-948b-786d5b96069c",
   "metadata": {},
   "outputs": [],
   "source": [
    "L = sy.Matrix([[12,4,6,2],[23,4,5,6],[2.5,2,5,1]])\n",
    "M = sy.Matrix([[12,14,26,22],[23,42,51,62],[12,25,32,5.1]])\n",
    "N = sy.Matrix([[12,4],[23,4],[2.5,2]])\n",
    "P = sy.Matrix([[12,4,22],[23,4,0.5],[2.5,2,8]])\n"
   ]
  },
  {
   "cell_type": "code",
   "execution_count": 4,
   "id": "af1d505d-27ec-4c1c-9e76-cafa3ba2c4c7",
   "metadata": {},
   "outputs": [
    {
     "data": {
      "text/plain": [
       "(Matrix([\n",
       " [ 12, 4, 6, 2],\n",
       " [ 23, 4, 5, 6],\n",
       " [2.5, 2, 5, 1]]),\n",
       " Matrix([\n",
       " [12, 14, 26,  22],\n",
       " [23, 42, 51,  62],\n",
       " [12, 25, 32, 5.1]]),\n",
       " Matrix([\n",
       " [ 12, 4],\n",
       " [ 23, 4],\n",
       " [2.5, 2]]),\n",
       " Matrix([\n",
       " [ 12, 4,  22],\n",
       " [ 23, 4, 0.5],\n",
       " [2.5, 2,   8]]))"
      ]
     },
     "execution_count": 4,
     "metadata": {},
     "output_type": "execute_result"
    }
   ],
   "source": [
    "L,M,N,P"
   ]
  },
  {
   "cell_type": "code",
   "execution_count": 109,
   "id": "205639d2-0a9c-4663-a9ba-dbd7f70fe2d7",
   "metadata": {},
   "outputs": [
    {
     "data": {
      "text/latex": [
       "$\\displaystyle \\left[\\begin{matrix}679.25 & 145.0 & 295.5\\\\145.0 & 36 & 106.0\\end{matrix}\\right]$"
      ],
      "text/plain": [
       "Matrix([\n",
       "[679.25, 145.0, 295.5],\n",
       "[ 145.0,    36, 106.0]])"
      ]
     },
     "execution_count": 109,
     "metadata": {},
     "output_type": "execute_result"
    }
   ],
   "source": [
    "N.T * P"
   ]
  },
  {
   "cell_type": "code",
   "execution_count": 16,
   "id": "93785d12-a25c-42dc-9f74-48017283fb4d",
   "metadata": {},
   "outputs": [
    {
     "data": {
      "text/latex": [
       "$\\displaystyle \\left[\\begin{matrix}291.0 & 108 & 202 & 70\\\\369.25 & 109.0 & 160.5 & 70.5\\\\96.0 & 34.0 & 65.0 & 25.0\\end{matrix}\\right]$"
      ],
      "text/plain": [
       "Matrix([\n",
       "[ 291.0,   108,   202,   70],\n",
       "[369.25, 109.0, 160.5, 70.5],\n",
       "[  96.0,  34.0,  65.0, 25.0]])"
      ]
     },
     "execution_count": 16,
     "metadata": {},
     "output_type": "execute_result"
    }
   ],
   "source": [
    "P*L"
   ]
  },
  {
   "cell_type": "code",
   "execution_count": 28,
   "id": "7bb2e1ff-7714-458e-bffd-00597fd374f0",
   "metadata": {},
   "outputs": [
    {
     "data": {
      "text/latex": [
       "$\\displaystyle \\left[\\begin{matrix}500 & 886 & 1220 & 624.2\\\\374.0 & 502.5 & 818.0 & 756.55\\\\172.0 & 319.0 & 423.0 & 219.8\\end{matrix}\\right]$"
      ],
      "text/plain": [
       "Matrix([\n",
       "[  500,   886,  1220,  624.2],\n",
       "[374.0, 502.5, 818.0, 756.55],\n",
       "[172.0, 319.0, 423.0,  219.8]])"
      ]
     },
     "execution_count": 28,
     "metadata": {},
     "output_type": "execute_result"
    }
   ],
   "source": [
    "K = P*M\n",
    "K"
   ]
  },
  {
   "cell_type": "code",
   "execution_count": 29,
   "id": "487299ea-ce88-48a0-9c09-34a046b47d3c",
   "metadata": {},
   "outputs": [
    {
     "data": {
      "text/latex": [
       "$\\displaystyle \\left[\\begin{matrix}500 & 374.0 & 172.0\\\\886 & 502.5 & 319.0\\\\1220 & 818.0 & 423.0\\\\624.2 & 756.55 & 219.8\\end{matrix}\\right]$"
      ],
      "text/plain": [
       "Matrix([\n",
       "[  500,  374.0, 172.0],\n",
       "[  886,  502.5, 319.0],\n",
       "[ 1220,  818.0, 423.0],\n",
       "[624.2, 756.55, 219.8]])"
      ]
     },
     "execution_count": 29,
     "metadata": {},
     "output_type": "execute_result"
    }
   ],
   "source": [
    "K.T"
   ]
  },
  {
   "cell_type": "markdown",
   "id": "df646c29-fd5b-4b13-98d3-27041592cf50",
   "metadata": {},
   "source": [
    "#### because of the shape rule, only P can be used to multiply any of this matrix "
   ]
  },
  {
   "cell_type": "markdown",
   "id": "6f1f912b-9bd8-4130-a963-442af0c11828",
   "metadata": {},
   "source": [
    "## Finding Transpose of a Matrix"
   ]
  },
  {
   "cell_type": "code",
   "execution_count": 23,
   "id": "b4844947-d046-4b6e-a841-0c7531203c38",
   "metadata": {},
   "outputs": [
    {
     "data": {
      "text/latex": [
       "$\\displaystyle \\left[\\begin{matrix}1 & 0 & 0\\\\0 & 1 & 0\\\\0 & 0 & 1\\end{matrix}\\right]$"
      ],
      "text/plain": [
       "Matrix([\n",
       "[1, 0, 0],\n",
       "[0, 1, 0],\n",
       "[0, 0, 1]])"
      ]
     },
     "execution_count": 23,
     "metadata": {},
     "output_type": "execute_result"
    }
   ],
   "source": [
    "G= np.array([[-1,2,-12,4],[23,-5,6,2]])\n",
    "I = sy.eye(3) # identity matrix\n",
    "I"
   ]
  },
  {
   "cell_type": "code",
   "execution_count": 30,
   "id": "078339dd-2e28-46d7-9a98-379b245f5213",
   "metadata": {},
   "outputs": [
    {
     "data": {
      "text/latex": [
       "$\\displaystyle \\left[\\begin{matrix}1 & 0 & 0\\\\0 & 1 & 0\\\\0 & 0 & 1\\end{matrix}\\right]$"
      ],
      "text/plain": [
       "Matrix([\n",
       "[1, 0, 0],\n",
       "[0, 1, 0],\n",
       "[0, 0, 1]])"
      ]
     },
     "execution_count": 30,
     "metadata": {},
     "output_type": "execute_result"
    }
   ],
   "source": [
    "I.transpose()"
   ]
  },
  {
   "cell_type": "code",
   "execution_count": 32,
   "id": "e03db3cc-bd6b-4aeb-ab67-5bbde91b7663",
   "metadata": {},
   "outputs": [
    {
     "data": {
      "text/plain": [
       "array([[ -1,   2, -12,   4],\n",
       "       [ 23,  -5,   6,   2]])"
      ]
     },
     "execution_count": 32,
     "metadata": {},
     "output_type": "execute_result"
    }
   ],
   "source": [
    "G"
   ]
  },
  {
   "cell_type": "code",
   "execution_count": 34,
   "id": "e11b459e-c61c-4f48-9823-a41336128e41",
   "metadata": {},
   "outputs": [
    {
     "data": {
      "text/plain": [
       "array([[ -1,  23],\n",
       "       [  2,  -5],\n",
       "       [-12,   6],\n",
       "       [  4,   2]])"
      ]
     },
     "execution_count": 34,
     "metadata": {},
     "output_type": "execute_result"
    }
   ],
   "source": [
    "G.transpose()"
   ]
  },
  {
   "cell_type": "code",
   "execution_count": 35,
   "id": "d243ff66-0d1b-4cfe-80e5-f37936cb5686",
   "metadata": {},
   "outputs": [
    {
     "data": {
      "text/latex": [
       "$\\displaystyle \\left[\\begin{matrix}12 & 14 & 26 & 22\\\\23 & 42 & 51 & 62\\\\12 & 25 & 32 & 5.1\\end{matrix}\\right]$"
      ],
      "text/plain": [
       "Matrix([\n",
       "[12, 14, 26,  22],\n",
       "[23, 42, 51,  62],\n",
       "[12, 25, 32, 5.1]])"
      ]
     },
     "execution_count": 35,
     "metadata": {},
     "output_type": "execute_result"
    }
   ],
   "source": [
    "M"
   ]
  },
  {
   "cell_type": "code",
   "execution_count": 36,
   "id": "f1755abb-1c19-4fe4-83d6-fcfe3a907b83",
   "metadata": {},
   "outputs": [
    {
     "data": {
      "text/latex": [
       "$\\displaystyle \\left[\\begin{matrix}12 & 23 & 12\\\\14 & 42 & 25\\\\26 & 51 & 32\\\\22 & 62 & 5.1\\end{matrix}\\right]$"
      ],
      "text/plain": [
       "Matrix([\n",
       "[12, 23,  12],\n",
       "[14, 42,  25],\n",
       "[26, 51,  32],\n",
       "[22, 62, 5.1]])"
      ]
     },
     "execution_count": 36,
     "metadata": {},
     "output_type": "execute_result"
    }
   ],
   "source": [
    "M.T"
   ]
  },
  {
   "cell_type": "markdown",
   "id": "edcd3d93-cb46-4064-aad9-b90f1b485256",
   "metadata": {},
   "source": [
    "* # Determinants\n",
    " - you can use .det from sympy or linalg.det from numpy, \n",
    " - matrix must be sqaure i.e same number of columns and rows"
   ]
  },
  {
   "cell_type": "code",
   "execution_count": 38,
   "id": "4b2b1b67-03aa-40aa-9c42-af84a44d359a",
   "metadata": {},
   "outputs": [
    {
     "data": {
      "text/latex": [
       "$\\displaystyle 433.0$"
      ],
      "text/plain": [
       "433.000000000000"
      ]
     },
     "execution_count": 38,
     "metadata": {},
     "output_type": "execute_result"
    }
   ],
   "source": [
    "P.det()"
   ]
  },
  {
   "cell_type": "code",
   "execution_count": 39,
   "id": "42b8968a-6a9c-4ede-a7d7-ca396fbd5ec4",
   "metadata": {},
   "outputs": [],
   "source": [
    "J = np.array([[-1,2,],[23,-5]])"
   ]
  },
  {
   "cell_type": "code",
   "execution_count": 41,
   "id": "0662d6d5-ea16-40a3-ae38-59eeef7c130a",
   "metadata": {},
   "outputs": [
    {
     "data": {
      "text/plain": [
       "-41.00000000000001"
      ]
     },
     "execution_count": 41,
     "metadata": {},
     "output_type": "execute_result"
    }
   ],
   "source": [
    "np.linalg.det(J)"
   ]
  },
  {
   "cell_type": "markdown",
   "id": "fc2d6e1e-ad68-4169-b7aa-1929fef1fcbd",
   "metadata": {},
   "source": [
    "* ## Getting the inverse of a matrix\n",
    " - for a matrix to have an inverse, the determinant has to be 0 and a square matrix"
   ]
  },
  {
   "cell_type": "code",
   "execution_count": 42,
   "id": "9bb6330e-25d3-401a-9ccf-811d677c074d",
   "metadata": {},
   "outputs": [],
   "source": [
    "# create a random matrix using np.random\n",
    "rand_matrix = np.random.randint(-8,5, size =(5,5))"
   ]
  },
  {
   "cell_type": "code",
   "execution_count": 43,
   "id": "ce3b88b3-d5a6-4c40-9fe9-a397779b91bf",
   "metadata": {},
   "outputs": [
    {
     "data": {
      "text/plain": [
       "array([[ 0, -5, -6, -4, -2],\n",
       "       [-2,  2, -8, -8, -4],\n",
       "       [-4,  2, -7, -3,  2],\n",
       "       [ 2, -1,  3, -4,  1],\n",
       "       [-7, -2, -2, -5, -1]])"
      ]
     },
     "execution_count": 43,
     "metadata": {},
     "output_type": "execute_result"
    }
   ],
   "source": [
    "rand_matrix"
   ]
  },
  {
   "cell_type": "code",
   "execution_count": 51,
   "id": "cdfed529-378d-4500-8e1f-f1bc08e269c0",
   "metadata": {},
   "outputs": [],
   "source": [
    "v = np.linalg.inv(rand_matrix)"
   ]
  },
  {
   "cell_type": "markdown",
   "id": "e63b7634-8b57-4e65-ac42-2ac332ebac66",
   "metadata": {},
   "source": [
    "### we can use sy.matrix to change our ragged looging numpy array to a beautiful looking sympy matrix"
   ]
  },
  {
   "cell_type": "code",
   "execution_count": 110,
   "id": "b8b9577f-c0f1-4f00-ab39-0f107a63400a",
   "metadata": {},
   "outputs": [
    {
     "data": {
      "text/latex": [
       "$\\displaystyle \\left[\\begin{matrix}0.0470051034112275 & 0.0244426537738383 & -0.0024174053182917 & 0.0674187483212463 & -0.129196884233145\\\\-0.136717700778942 & 0.0889067955949503 & 0.024174053182917 & -0.00752081654579641 & -0.0413644910018802\\\\-0.0663443459575611 & -0.00449905989793178 & -0.0737308622078969 & 0.0562718237980124 & 0.059495030889068\\\\0.0120870265914585 & -0.0437147461724416 & -0.0149073327961322 & -0.139806607574537 & -0.0189363416599517\\\\0.0166532366371206 & -0.121340316948697 & 0.190572119258662 & 0.129599785119527 & -0.0372011818426001\\end{matrix}\\right]$"
      ],
      "text/plain": [
       "Matrix([\n",
       "[ 0.0470051034112275,   0.0244426537738383, -0.0024174053182917,   0.0674187483212463,  -0.129196884233145],\n",
       "[ -0.136717700778942,   0.0889067955949503,   0.024174053182917, -0.00752081654579641, -0.0413644910018802],\n",
       "[-0.0663443459575611, -0.00449905989793178, -0.0737308622078969,   0.0562718237980124,   0.059495030889068],\n",
       "[ 0.0120870265914585,  -0.0437147461724416, -0.0149073327961322,   -0.139806607574537, -0.0189363416599517],\n",
       "[ 0.0166532366371206,   -0.121340316948697,   0.190572119258662,    0.129599785119527, -0.0372011818426001]])"
      ]
     },
     "execution_count": 110,
     "metadata": {},
     "output_type": "execute_result"
    }
   ],
   "source": [
    "sy.Matrix(v)"
   ]
  },
  {
   "cell_type": "code",
   "execution_count": 98,
   "id": "563be97e-0a3c-4e6a-8b84-ded338d64426",
   "metadata": {},
   "outputs": [],
   "source": [
    "r_matrix = sy.Matrix(np.random.randint(-4,9, size =(4,4)))"
   ]
  },
  {
   "cell_type": "code",
   "execution_count": 99,
   "id": "717adb72-e5cf-4f76-9127-d646fef30fee",
   "metadata": {},
   "outputs": [
    {
     "data": {
      "text/latex": [
       "$\\displaystyle \\left[\\begin{matrix}-2 & -1 & -2 & 4\\\\-4 & 1 & -1 & -4\\\\-3 & -4 & -4 & 2\\\\8 & -4 & 1 & 1\\end{matrix}\\right]$"
      ],
      "text/plain": [
       "Matrix([\n",
       "[-2, -1, -2,  4],\n",
       "[-4,  1, -1, -4],\n",
       "[-3, -4, -4,  2],\n",
       "[ 8, -4,  1,  1]])"
      ]
     },
     "execution_count": 99,
     "metadata": {},
     "output_type": "execute_result"
    }
   ],
   "source": [
    "r_matrix"
   ]
  },
  {
   "cell_type": "code",
   "execution_count": 100,
   "id": "6077e90d-baf6-4c5d-bd7c-10e85514cab2",
   "metadata": {},
   "outputs": [
    {
     "data": {
      "text/latex": [
       "$\\displaystyle \\left[\\begin{matrix}\\frac{26}{17} & \\frac{22}{17} & - \\frac{15}{17} & \\frac{14}{17}\\\\\\frac{37}{17} & \\frac{30}{17} & - \\frac{22}{17} & \\frac{16}{17}\\\\- \\frac{173}{51} & - \\frac{149}{51} & \\frac{30}{17} & - \\frac{28}{17}\\\\- \\frac{7}{51} & - \\frac{19}{51} & \\frac{2}{17} & - \\frac{3}{17}\\end{matrix}\\right]$"
      ],
      "text/plain": [
       "Matrix([\n",
       "[  26/17,   22/17, -15/17,  14/17],\n",
       "[  37/17,   30/17, -22/17,  16/17],\n",
       "[-173/51, -149/51,  30/17, -28/17],\n",
       "[  -7/51,  -19/51,   2/17,  -3/17]])"
      ]
     },
     "execution_count": 100,
     "metadata": {},
     "output_type": "execute_result"
    }
   ],
   "source": [
    "r_matrix.inv()"
   ]
  },
  {
   "cell_type": "code",
   "execution_count": 140,
   "id": "8d42c501-ef98-4840-9b25-26aa95131ea5",
   "metadata": {},
   "outputs": [],
   "source": [
    "po = sy.diag(1,2,5,8,5,9)"
   ]
  },
  {
   "cell_type": "code",
   "execution_count": 141,
   "id": "e76542e3-4e9d-4ee0-a6d6-3baed2d4676d",
   "metadata": {},
   "outputs": [
    {
     "data": {
      "text/latex": [
       "$\\displaystyle \\left[\\begin{matrix}1 & 0 & 0 & 0 & 0 & 0\\\\0 & 2 & 0 & 0 & 0 & 0\\\\0 & 0 & 5 & 0 & 0 & 0\\\\0 & 0 & 0 & 8 & 0 & 0\\\\0 & 0 & 0 & 0 & 5 & 0\\\\0 & 0 & 0 & 0 & 0 & 9\\end{matrix}\\right]$"
      ],
      "text/plain": [
       "Matrix([\n",
       "[1, 0, 0, 0, 0, 0],\n",
       "[0, 2, 0, 0, 0, 0],\n",
       "[0, 0, 5, 0, 0, 0],\n",
       "[0, 0, 0, 8, 0, 0],\n",
       "[0, 0, 0, 0, 5, 0],\n",
       "[0, 0, 0, 0, 0, 9]])"
      ]
     },
     "execution_count": 141,
     "metadata": {},
     "output_type": "execute_result"
    }
   ],
   "source": [
    "po"
   ]
  },
  {
   "cell_type": "code",
   "execution_count": 120,
   "id": "1829e963-5f76-4942-843d-1675d6fca9a8",
   "metadata": {},
   "outputs": [
    {
     "data": {
      "text/latex": [
       "$\\displaystyle \\left[\\begin{matrix}1 & 0 & 0 & 0 & 0\\\\0 & \\frac{1}{2} & 0 & 0 & 0\\\\0 & 0 & \\frac{1}{5} & 0 & 0\\\\0 & 0 & 0 & \\frac{1}{8} & 0\\\\0 & 0 & 0 & 0 & \\frac{1}{5}\\end{matrix}\\right]$"
      ],
      "text/plain": [
       "Matrix([\n",
       "[1,   0,   0,   0,   0],\n",
       "[0, 1/2,   0,   0,   0],\n",
       "[0,   0, 1/5,   0,   0],\n",
       "[0,   0,   0, 1/8,   0],\n",
       "[0,   0,   0,   0, 1/5]])"
      ]
     },
     "execution_count": 120,
     "metadata": {},
     "output_type": "execute_result"
    }
   ],
   "source": [
    "po.inv().T"
   ]
  },
  {
   "cell_type": "code",
   "execution_count": 55,
   "id": "e873ac1f-2ca1-4fd1-9a37-44936d4215df",
   "metadata": {},
   "outputs": [],
   "source": [
    "pk = sy.diag([1,2,3])"
   ]
  },
  {
   "cell_type": "code",
   "execution_count": 72,
   "id": "bb0e3d7a-8487-4e31-a55a-90e0db2e6c95",
   "metadata": {},
   "outputs": [],
   "source": [
    "gk = sy.eye(9)"
   ]
  },
  {
   "cell_type": "code",
   "execution_count": 73,
   "id": "c13bea0d-17a9-49aa-9b13-f71541cfee69",
   "metadata": {},
   "outputs": [
    {
     "data": {
      "text/latex": [
       "$\\displaystyle \\left[\\begin{matrix}1 & 0 & 0 & 0 & 0 & 0 & 0 & 0 & 0\\\\0 & 1 & 0 & 0 & 0 & 0 & 0 & 0 & 0\\\\0 & 0 & 1 & 0 & 0 & 0 & 0 & 0 & 0\\\\0 & 0 & 0 & 1 & 0 & 0 & 0 & 0 & 0\\\\0 & 0 & 0 & 0 & 1 & 0 & 0 & 0 & 0\\\\0 & 0 & 0 & 0 & 0 & 1 & 0 & 0 & 0\\\\0 & 0 & 0 & 0 & 0 & 0 & 1 & 0 & 0\\\\0 & 0 & 0 & 0 & 0 & 0 & 0 & 1 & 0\\\\0 & 0 & 0 & 0 & 0 & 0 & 0 & 0 & 1\\end{matrix}\\right]$"
      ],
      "text/plain": [
       "Matrix([\n",
       "[1, 0, 0, 0, 0, 0, 0, 0, 0],\n",
       "[0, 1, 0, 0, 0, 0, 0, 0, 0],\n",
       "[0, 0, 1, 0, 0, 0, 0, 0, 0],\n",
       "[0, 0, 0, 1, 0, 0, 0, 0, 0],\n",
       "[0, 0, 0, 0, 1, 0, 0, 0, 0],\n",
       "[0, 0, 0, 0, 0, 1, 0, 0, 0],\n",
       "[0, 0, 0, 0, 0, 0, 1, 0, 0],\n",
       "[0, 0, 0, 0, 0, 0, 0, 1, 0],\n",
       "[0, 0, 0, 0, 0, 0, 0, 0, 1]])"
      ]
     },
     "execution_count": 73,
     "metadata": {},
     "output_type": "execute_result"
    }
   ],
   "source": [
    "gk"
   ]
  },
  {
   "cell_type": "code",
   "execution_count": 74,
   "id": "92a32e0e-03fc-4ad8-ad74-1d2a0149f202",
   "metadata": {},
   "outputs": [
    {
     "data": {
      "text/latex": [
       "$\\displaystyle \\left[\\begin{matrix}1 & 0 & 0 & 0 & 0 & 0 & 0 & 0 & 0\\\\0 & 1 & 0 & 0 & 0 & 0 & 0 & 0 & 0\\\\0 & 0 & 1 & 0 & 0 & 0 & 0 & 0 & 0\\\\0 & 0 & 0 & 1 & 0 & 0 & 0 & 0 & 0\\\\0 & 0 & 0 & 0 & 1 & 0 & 0 & 0 & 0\\\\0 & 0 & 0 & 0 & 0 & 1 & 0 & 0 & 0\\\\0 & 0 & 0 & 0 & 0 & 0 & 1 & 0 & 0\\\\0 & 0 & 0 & 0 & 0 & 0 & 0 & 1 & 0\\\\0 & 0 & 0 & 0 & 0 & 0 & 0 & 0 & 1\\end{matrix}\\right]$"
      ],
      "text/plain": [
       "Matrix([\n",
       "[1, 0, 0, 0, 0, 0, 0, 0, 0],\n",
       "[0, 1, 0, 0, 0, 0, 0, 0, 0],\n",
       "[0, 0, 1, 0, 0, 0, 0, 0, 0],\n",
       "[0, 0, 0, 1, 0, 0, 0, 0, 0],\n",
       "[0, 0, 0, 0, 1, 0, 0, 0, 0],\n",
       "[0, 0, 0, 0, 0, 1, 0, 0, 0],\n",
       "[0, 0, 0, 0, 0, 0, 1, 0, 0],\n",
       "[0, 0, 0, 0, 0, 0, 0, 1, 0],\n",
       "[0, 0, 0, 0, 0, 0, 0, 0, 1]])"
      ]
     },
     "execution_count": 74,
     "metadata": {},
     "output_type": "execute_result"
    }
   ],
   "source": [
    "gk.inv()"
   ]
  },
  {
   "cell_type": "code",
   "execution_count": 77,
   "id": "a84fac93-1727-46cd-9f7a-e506fd0d724e",
   "metadata": {},
   "outputs": [],
   "source": [
    "two_by_3 = sy.Matrix(np.random.randint(-2,4, size = (2,3)))"
   ]
  },
  {
   "cell_type": "code",
   "execution_count": 78,
   "id": "f0634874-b806-4895-aa4a-9e863bd46a96",
   "metadata": {},
   "outputs": [
    {
     "data": {
      "text/latex": [
       "$\\displaystyle \\left[\\begin{matrix}1 & 0 & 2\\\\2 & 3 & 3\\end{matrix}\\right]$"
      ],
      "text/plain": [
       "Matrix([\n",
       "[1, 0, 2],\n",
       "[2, 3, 3]])"
      ]
     },
     "execution_count": 78,
     "metadata": {},
     "output_type": "execute_result"
    }
   ],
   "source": [
    "two_by_3"
   ]
  },
  {
   "cell_type": "code",
   "execution_count": 79,
   "id": "2e51e6b0-f0cc-4140-be90-fc78236db30b",
   "metadata": {},
   "outputs": [
    {
     "data": {
      "text/latex": [
       "$\\displaystyle \\left[\\begin{matrix}-9 & -1 & 3\\\\-1 & -3 & -1\\\\-8 & 3 & -2\\\\-4 & -3 & -1\\end{matrix}\\right]$"
      ],
      "text/plain": [
       "Matrix([\n",
       "[-9, -1,  3],\n",
       "[-1, -3, -1],\n",
       "[-8,  3, -2],\n",
       "[-4, -3, -1]])"
      ]
     },
     "execution_count": 79,
     "metadata": {},
     "output_type": "execute_result"
    }
   ],
   "source": [
    "four_by_2 = sy.Matrix(np.random.randint(-9,4, size = (4,3)))\n",
    "four_by_2"
   ]
  },
  {
   "cell_type": "markdown",
   "id": "fb087415-082a-4711-a4df-6ddfe9381623",
   "metadata": {},
   "source": [
    "### these matrices cant be subtracted cause they arent of the same dimension"
   ]
  },
  {
   "cell_type": "code",
   "execution_count": 81,
   "id": "5c9ee674-345d-4c29-8709-4d63bafff171",
   "metadata": {},
   "outputs": [
    {
     "data": {
      "text/plain": [
       "(Matrix([\n",
       " [1, -1],\n",
       " [2,  2]]),\n",
       " Matrix([\n",
       " [2,  0],\n",
       " [0, -1]]))"
      ]
     },
     "execution_count": 81,
     "metadata": {},
     "output_type": "execute_result"
    }
   ],
   "source": [
    "a = sy.Matrix([[1,-1], [2,2]])\n",
    "b = sy.Matrix([[2,0],[0,-1]])\n",
    "\n",
    "a, b"
   ]
  },
  {
   "cell_type": "code",
   "execution_count": 84,
   "id": "bc17df74-27bb-4e9c-ac54-42a97d6ec982",
   "metadata": {},
   "outputs": [],
   "source": [
    "a1 = a.inv()"
   ]
  },
  {
   "cell_type": "code",
   "execution_count": 85,
   "id": "80fe7f6f-bcdb-4ef9-984a-dcc67d37ec44",
   "metadata": {},
   "outputs": [],
   "source": [
    "b1 = b.inv()"
   ]
  },
  {
   "cell_type": "code",
   "execution_count": 86,
   "id": "e82da45d-7f2a-4c04-a9cb-a8281972c1a8",
   "metadata": {},
   "outputs": [
    {
     "data": {
      "text/latex": [
       "$\\displaystyle \\left[\\begin{matrix}\\frac{1}{4} & - \\frac{1}{4}\\\\- \\frac{1}{4} & - \\frac{1}{4}\\end{matrix}\\right]$"
      ],
      "text/plain": [
       "Matrix([\n",
       "[ 1/4, -1/4],\n",
       "[-1/4, -1/4]])"
      ]
     },
     "execution_count": 86,
     "metadata": {},
     "output_type": "execute_result"
    }
   ],
   "source": [
    "a1*b1"
   ]
  },
  {
   "cell_type": "markdown",
   "id": "fca6a345-df18-4095-aacf-249544981073",
   "metadata": {},
   "source": [
    "## More Matrix Algebra "
   ]
  },
  {
   "cell_type": "code",
   "execution_count": 87,
   "id": "de34b237-faaf-4b64-8e4f-ba08447450d3",
   "metadata": {},
   "outputs": [],
   "source": [
    "import random"
   ]
  },
  {
   "cell_type": "code",
   "execution_count": 91,
   "id": "df433f26-7794-420f-924a-7976c0bc5ee7",
   "metadata": {},
   "outputs": [
    {
     "data": {
      "text/plain": [
       "array([-3. , -1.5,  0. ,  1.5,  3. ,  4.5,  6. ,  7.5,  9. ])"
      ]
     },
     "execution_count": 91,
     "metadata": {},
     "output_type": "execute_result"
    }
   ],
   "source": [
    "L1 = np.linspace(-3,9,9)\n",
    "L1\n",
    "# linspace returns evenly spaced number and includes the upper bound but random.randint would not include the upper bound"
   ]
  },
  {
   "cell_type": "code",
   "execution_count": 93,
   "id": "d6bb3e79-a30b-4160-917e-e8c796d53633",
   "metadata": {},
   "outputs": [
    {
     "data": {
      "text/plain": [
       "(9,)"
      ]
     },
     "execution_count": 93,
     "metadata": {},
     "output_type": "execute_result"
    }
   ],
   "source": [
    "L1.shape"
   ]
  },
  {
   "cell_type": "code",
   "execution_count": 101,
   "id": "70bf068a-b5b7-44a2-b1c1-c985b30d628c",
   "metadata": {},
   "outputs": [],
   "source": [
    "M1 = L1.reshape(3,3) # seems you can reshape into the multiple of the actual shape"
   ]
  },
  {
   "cell_type": "code",
   "execution_count": 102,
   "id": "7fe1cbfd-02b4-4f25-a797-1f268fd77b71",
   "metadata": {},
   "outputs": [
    {
     "data": {
      "text/plain": [
       "array([[-3. , -1.5,  0. ],\n",
       "       [ 1.5,  3. ,  4.5],\n",
       "       [ 6. ,  7.5,  9. ]])"
      ]
     },
     "execution_count": 102,
     "metadata": {},
     "output_type": "execute_result"
    }
   ],
   "source": [
    "M1"
   ]
  },
  {
   "cell_type": "code",
   "execution_count": 103,
   "id": "14203b9e-d5b6-40cf-ba73-973f7b5ac4a1",
   "metadata": {},
   "outputs": [
    {
     "data": {
      "text/plain": [
       "array([[ 5,  1, -1],\n",
       "       [-2, -1,  3],\n",
       "       [ 0,  4,  3]])"
      ]
     },
     "execution_count": 103,
     "metadata": {},
     "output_type": "execute_result"
    }
   ],
   "source": [
    "T1 = np.random.randint(-2,8, size=(3,3))\n",
    "T1"
   ]
  },
  {
   "cell_type": "markdown",
   "id": "1cb0f559-592b-4632-a61e-2b4278a14991",
   "metadata": {},
   "source": [
    "## we can also use the matmul method to multiply two matrices \n",
    "- the dot method can be used too\n",
    "- you can also use the @ symbol"
   ]
  },
  {
   "cell_type": "code",
   "execution_count": 105,
   "id": "252c09fc-0723-43ed-abba-12066c77c13f",
   "metadata": {},
   "outputs": [
    {
     "data": {
      "text/plain": [
       "array([[-12. ,  -1.5,  -1.5],\n",
       "       [  1.5,  16.5,  21. ],\n",
       "       [ 15. ,  34.5,  43.5]])"
      ]
     },
     "execution_count": 105,
     "metadata": {},
     "output_type": "execute_result"
    }
   ],
   "source": [
    "np.matmul(M1,T1)"
   ]
  },
  {
   "cell_type": "code",
   "execution_count": 106,
   "id": "49aac0a0-70ac-434a-a044-23eae8366fdf",
   "metadata": {},
   "outputs": [
    {
     "data": {
      "text/plain": [
       "array([[-15. ,  -1.5,  -0. ],\n",
       "       [ -3. ,  -3. ,  13.5],\n",
       "       [  0. ,  30. ,  27. ]])"
      ]
     },
     "execution_count": 106,
     "metadata": {},
     "output_type": "execute_result"
    }
   ],
   "source": [
    "M1*T1"
   ]
  },
  {
   "cell_type": "markdown",
   "id": "49853762-5590-4c5f-af30-359696730b5d",
   "metadata": {},
   "source": [
    "#### when we tried using the traditional star method from python it gave us a wrong answer"
   ]
  },
  {
   "cell_type": "code",
   "execution_count": 107,
   "id": "a00df505-f1fc-4cb1-b006-103444d0068a",
   "metadata": {},
   "outputs": [
    {
     "data": {
      "text/plain": [
       "array([[-12. ,  -1.5,  -1.5],\n",
       "       [  1.5,  16.5,  21. ],\n",
       "       [ 15. ,  34.5,  43.5]])"
      ]
     },
     "execution_count": 107,
     "metadata": {},
     "output_type": "execute_result"
    }
   ],
   "source": [
    "M1.dot(T1)"
   ]
  },
  {
   "cell_type": "code",
   "execution_count": 108,
   "id": "01f758e6-76fe-4166-9815-5e0e34bfc038",
   "metadata": {},
   "outputs": [
    {
     "data": {
      "text/plain": [
       "array([[-12. ,  -1.5,  -1.5],\n",
       "       [  1.5,  16.5,  21. ],\n",
       "       [ 15. ,  34.5,  43.5]])"
      ]
     },
     "execution_count": 108,
     "metadata": {},
     "output_type": "execute_result"
    }
   ],
   "source": [
    "M1@T1"
   ]
  },
  {
   "cell_type": "markdown",
   "id": "1509c179-7271-4613-bf3a-c82d89afb459",
   "metadata": {},
   "source": [
    "## DIAGONALIZATION OF A MATRIX"
   ]
  },
  {
   "cell_type": "code",
   "execution_count": 121,
   "id": "221b2174-50a8-4eba-8acc-9668093e95bc",
   "metadata": {},
   "outputs": [],
   "source": [
    "from sympy import *"
   ]
  },
  {
   "cell_type": "code",
   "execution_count": 129,
   "id": "1d6558cf-0bde-4e9a-80b7-3a1d64f06770",
   "metadata": {},
   "outputs": [],
   "source": [
    "M = Matrix([[-2,4,2], [3,-2,4],[2,-4,3]])"
   ]
  },
  {
   "cell_type": "code",
   "execution_count": 130,
   "id": "edcc9511-fcea-4e0c-9270-db6035746b37",
   "metadata": {},
   "outputs": [
    {
     "data": {
      "text/latex": [
       "$\\displaystyle \\left[\\begin{matrix}-2 & 4 & 2\\\\3 & -2 & 4\\\\2 & -4 & 3\\end{matrix}\\right]$"
      ],
      "text/plain": [
       "Matrix([\n",
       "[-2,  4, 2],\n",
       "[ 3, -2, 4],\n",
       "[ 2, -4, 3]])"
      ]
     },
     "execution_count": 130,
     "metadata": {},
     "output_type": "execute_result"
    }
   ],
   "source": [
    "M"
   ]
  },
  {
   "cell_type": "code",
   "execution_count": 142,
   "id": "0ef9e8a8-de87-42b9-b548-1884df40eb18",
   "metadata": {},
   "outputs": [],
   "source": [
    "P,D = M.diagonalize()"
   ]
  },
  {
   "cell_type": "code",
   "execution_count": 143,
   "id": "fe67b62e-71d1-49ca-8d04-a8a8a52881ac",
   "metadata": {},
   "outputs": [
    {
     "data": {
      "text/latex": [
       "$\\displaystyle \\left[\\begin{matrix}\\frac{- 600 \\left(1 + \\sqrt{3} i\\right) \\left(6 \\sqrt{8814} + 577\\right)^{\\frac{2}{3}} + 6 \\left(1 + \\sqrt{3} i\\right)^{2} \\left(2 - \\left(1 + \\sqrt{3} i\\right) \\sqrt[3]{6 \\sqrt{8814} + 577}\\right) \\left(6 \\sqrt{8814} + 577\\right) - \\left(100 + \\left(-2 + \\left(1 + \\sqrt{3} i\\right) \\sqrt[3]{6 \\sqrt{8814} + 577}\\right) \\left(1 + \\sqrt{3} i\\right) \\sqrt[3]{6 \\sqrt{8814} + 577}\\right)^{2} \\sqrt[3]{6 \\sqrt{8814} + 577}}{288 \\left(1 + \\sqrt{3} i\\right)^{2} \\left(6 \\sqrt{8814} + 577\\right)} & \\frac{\\left(-1 + \\sqrt{3} i\\right) \\left(100 + \\left(-2 + \\left(1 - \\sqrt{3} i\\right) \\sqrt[3]{6 \\sqrt{8814} + 577}\\right) \\left(1 - \\sqrt{3} i\\right) \\sqrt[3]{6 \\sqrt{8814} + 577}\\right)^{2} \\sqrt[3]{6 \\sqrt{8814} + 577} + 6 \\left(1 - \\sqrt{3} i\\right)^{3} \\left(2 + \\left(-1 + \\sqrt{3} i\\right) \\sqrt[3]{6 \\sqrt{8814} + 577}\\right) \\left(6 \\sqrt{8814} + 577\\right) - 600 \\left(1 - \\sqrt{3} i\\right)^{2} \\left(6 \\sqrt{8814} + 577\\right)^{\\frac{2}{3}}}{288 \\left(1 - \\sqrt{3} i\\right)^{3} \\left(6 \\sqrt{8814} + 577\\right)} & - \\frac{23 \\sqrt[3]{6 \\sqrt{8814} + 577}}{75} - \\frac{\\sqrt{8814} \\left(6 \\sqrt{8814} + 577\\right)^{\\frac{2}{3}}}{7500} - \\frac{2}{3} - \\frac{2 \\left(6 \\sqrt{8814} + 577\\right)^{\\frac{2}{3}}}{1875} + \\frac{\\sqrt{8814} \\sqrt[3]{6 \\sqrt{8814} + 577}}{300}\\\\\\frac{- 3000 \\left(1 + \\sqrt{3} i\\right) \\left(6 \\sqrt{8814} + 577\\right)^{\\frac{2}{3}} - \\left(100 + \\left(-2 + \\left(1 + \\sqrt{3} i\\right) \\sqrt[3]{6 \\sqrt{8814} + 577}\\right) \\left(1 + \\sqrt{3} i\\right) \\sqrt[3]{6 \\sqrt{8814} + 577}\\right)^{2} \\sqrt[3]{6 \\sqrt{8814} + 577} + 6 \\left(1 + \\sqrt{3} i\\right)^{2} \\left(82 - 5 \\left(1 + \\sqrt{3} i\\right) \\sqrt[3]{6 \\sqrt{8814} + 577}\\right) \\left(6 \\sqrt{8814} + 577\\right)}{576 \\left(1 + \\sqrt{3} i\\right)^{2} \\left(6 \\sqrt{8814} + 577\\right)} & \\frac{6 \\left(1 - \\sqrt{3} i\\right)^{3} \\left(82 + 5 \\left(-1 + \\sqrt{3} i\\right) \\sqrt[3]{6 \\sqrt{8814} + 577}\\right) \\left(6 \\sqrt{8814} + 577\\right) + \\left(-1 + \\sqrt{3} i\\right) \\left(100 + \\left(-2 + \\left(1 - \\sqrt{3} i\\right) \\sqrt[3]{6 \\sqrt{8814} + 577}\\right) \\left(1 - \\sqrt{3} i\\right) \\sqrt[3]{6 \\sqrt{8814} + 577}\\right)^{2} \\sqrt[3]{6 \\sqrt{8814} + 577} - 3000 \\left(1 - \\sqrt{3} i\\right)^{2} \\left(6 \\sqrt{8814} + 577\\right)^{\\frac{2}{3}}}{576 \\left(1 - \\sqrt{3} i\\right)^{3} \\left(6 \\sqrt{8814} + 577\\right)} & - \\frac{13 \\sqrt{8814} \\left(6 \\sqrt{8814} + 577\\right)^{\\frac{2}{3}}}{15000} - \\frac{7 \\sqrt[3]{6 \\sqrt{8814} + 577}}{100} + \\frac{1}{2} + \\frac{\\sqrt{8814} \\sqrt[3]{6 \\sqrt{8814} + 577}}{600} + \\frac{191 \\left(6 \\sqrt{8814} + 577\\right)^{\\frac{2}{3}}}{2500}\\\\1 & 1 & 1\\end{matrix}\\right]$"
      ],
      "text/plain": [
       "Matrix([\n",
       "[    (-600*(1 + sqrt(3)*I)*(6*sqrt(8814) + 577)**(2/3) + 6*(1 + sqrt(3)*I)**2*(2 - (1 + sqrt(3)*I)*(6*sqrt(8814) + 577)**(1/3))*(6*sqrt(8814) + 577) - (100 + (-2 + (1 + sqrt(3)*I)*(6*sqrt(8814) + 577)**(1/3))*(1 + sqrt(3)*I)*(6*sqrt(8814) + 577)**(1/3))**2*(6*sqrt(8814) + 577)**(1/3))/(288*(1 + sqrt(3)*I)**2*(6*sqrt(8814) + 577)),     ((-1 + sqrt(3)*I)*(100 + (-2 + (1 - sqrt(3)*I)*(6*sqrt(8814) + 577)**(1/3))*(1 - sqrt(3)*I)*(6*sqrt(8814) + 577)**(1/3))**2*(6*sqrt(8814) + 577)**(1/3) + 6*(1 - sqrt(3)*I)**3*(2 + (-1 + sqrt(3)*I)*(6*sqrt(8814) + 577)**(1/3))*(6*sqrt(8814) + 577) - 600*(1 - sqrt(3)*I)**2*(6*sqrt(8814) + 577)**(2/3))/(288*(1 - sqrt(3)*I)**3*(6*sqrt(8814) + 577)),       -23*(6*sqrt(8814) + 577)**(1/3)/75 - sqrt(8814)*(6*sqrt(8814) + 577)**(2/3)/7500 - 2/3 - 2*(6*sqrt(8814) + 577)**(2/3)/1875 + sqrt(8814)*(6*sqrt(8814) + 577)**(1/3)/300],\n",
       "[(-3000*(1 + sqrt(3)*I)*(6*sqrt(8814) + 577)**(2/3) - (100 + (-2 + (1 + sqrt(3)*I)*(6*sqrt(8814) + 577)**(1/3))*(1 + sqrt(3)*I)*(6*sqrt(8814) + 577)**(1/3))**2*(6*sqrt(8814) + 577)**(1/3) + 6*(1 + sqrt(3)*I)**2*(82 - 5*(1 + sqrt(3)*I)*(6*sqrt(8814) + 577)**(1/3))*(6*sqrt(8814) + 577))/(576*(1 + sqrt(3)*I)**2*(6*sqrt(8814) + 577)), (6*(1 - sqrt(3)*I)**3*(82 + 5*(-1 + sqrt(3)*I)*(6*sqrt(8814) + 577)**(1/3))*(6*sqrt(8814) + 577) + (-1 + sqrt(3)*I)*(100 + (-2 + (1 - sqrt(3)*I)*(6*sqrt(8814) + 577)**(1/3))*(1 - sqrt(3)*I)*(6*sqrt(8814) + 577)**(1/3))**2*(6*sqrt(8814) + 577)**(1/3) - 3000*(1 - sqrt(3)*I)**2*(6*sqrt(8814) + 577)**(2/3))/(576*(1 - sqrt(3)*I)**3*(6*sqrt(8814) + 577)), -13*sqrt(8814)*(6*sqrt(8814) + 577)**(2/3)/15000 - 7*(6*sqrt(8814) + 577)**(1/3)/100 + 1/2 + sqrt(8814)*(6*sqrt(8814) + 577)**(1/3)/600 + 191*(6*sqrt(8814) + 577)**(2/3)/2500],\n",
       "[                                                                                                                                                                                                                                                                                                                                         1,                                                                                                                                                                                                                                                                                                                                                              1,                                                                                                                                                                              1]])"
      ]
     },
     "execution_count": 143,
     "metadata": {},
     "output_type": "execute_result"
    }
   ],
   "source": [
    "P"
   ]
  },
  {
   "cell_type": "code",
   "execution_count": 144,
   "id": "f4a0f5fe-aa3f-4a9b-82ef-3bb36ae25341",
   "metadata": {},
   "outputs": [
    {
     "data": {
      "text/latex": [
       "$\\displaystyle \\left[\\begin{matrix}- \\frac{1}{3} - \\frac{25}{3 \\left(- \\frac{1}{2} - \\frac{\\sqrt{3} i}{2}\\right) \\sqrt[3]{6 \\sqrt{8814} + 577}} - \\frac{\\left(- \\frac{1}{2} - \\frac{\\sqrt{3} i}{2}\\right) \\sqrt[3]{6 \\sqrt{8814} + 577}}{3} & 0 & 0\\\\0 & - \\frac{1}{3} - \\frac{\\left(- \\frac{1}{2} + \\frac{\\sqrt{3} i}{2}\\right) \\sqrt[3]{6 \\sqrt{8814} + 577}}{3} - \\frac{25}{3 \\left(- \\frac{1}{2} + \\frac{\\sqrt{3} i}{2}\\right) \\sqrt[3]{6 \\sqrt{8814} + 577}} & 0\\\\0 & 0 & - \\frac{\\sqrt[3]{6 \\sqrt{8814} + 577}}{3} - \\frac{25}{3 \\sqrt[3]{6 \\sqrt{8814} + 577}} - \\frac{1}{3}\\end{matrix}\\right]$"
      ],
      "text/plain": [
       "Matrix([\n",
       "[-1/3 - 25/(3*(-1/2 - sqrt(3)*I/2)*(6*sqrt(8814) + 577)**(1/3)) - (-1/2 - sqrt(3)*I/2)*(6*sqrt(8814) + 577)**(1/3)/3,                                                                                                                   0,                                                                         0],\n",
       "[                                                                                                                  0, -1/3 - (-1/2 + sqrt(3)*I/2)*(6*sqrt(8814) + 577)**(1/3)/3 - 25/(3*(-1/2 + sqrt(3)*I/2)*(6*sqrt(8814) + 577)**(1/3)),                                                                         0],\n",
       "[                                                                                                                  0,                                                                                                                   0, -(6*sqrt(8814) + 577)**(1/3)/3 - 25/(3*(6*sqrt(8814) + 577)**(1/3)) - 1/3]])"
      ]
     },
     "execution_count": 144,
     "metadata": {},
     "output_type": "execute_result"
    }
   ],
   "source": [
    "D"
   ]
  },
  {
   "cell_type": "code",
   "execution_count": 138,
   "id": "ca0e82f7-ac30-43ee-8e14-348ffe366711",
   "metadata": {},
   "outputs": [],
   "source": [
    "k = M.eigenvects"
   ]
  },
  {
   "cell_type": "code",
   "execution_count": 139,
   "id": "98a15e3e-a76a-4194-9cf1-0f1f26a96b20",
   "metadata": {},
   "outputs": [
    {
     "data": {
      "text/plain": [
       "<bound method MatrixEigen.eigenvects of Matrix([\n",
       "[-2,  4, 2],\n",
       "[ 3, -2, 4],\n",
       "[ 2, -4, 3]])>"
      ]
     },
     "execution_count": 139,
     "metadata": {},
     "output_type": "execute_result"
    }
   ],
   "source": [
    "k"
   ]
  },
  {
   "cell_type": "code",
   "execution_count": null,
   "id": "eeaed4a6-6a75-409e-a7bb-c397d61ceb1a",
   "metadata": {},
   "outputs": [],
   "source": []
  }
 ],
 "metadata": {
  "kernelspec": {
   "display_name": "Python 3",
   "language": "python",
   "name": "python3"
  },
  "language_info": {
   "codemirror_mode": {
    "name": "ipython",
    "version": 3
   },
   "file_extension": ".py",
   "mimetype": "text/x-python",
   "name": "python",
   "nbconvert_exporter": "python",
   "pygments_lexer": "ipython3",
   "version": "3.8.8"
  }
 },
 "nbformat": 4,
 "nbformat_minor": 5
}
