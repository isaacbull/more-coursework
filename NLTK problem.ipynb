{
 "cells": [
  {
   "cell_type": "markdown",
   "id": "aac75340-d181-452f-aef5-bdde99004c61",
   "metadata": {},
   "source": [
    "### Exploring one of the datas I downloaded "
   ]
  },
  {
   "cell_type": "code",
   "execution_count": 1,
   "id": "88643889-20e6-4836-8af0-4b6bf60c35c4",
   "metadata": {},
   "outputs": [],
   "source": [
    "import pandas as pd "
   ]
  },
  {
   "cell_type": "code",
   "execution_count": 3,
   "id": "039f9141-90c0-4c33-b694-653248193b30",
   "metadata": {},
   "outputs": [],
   "source": [
    "data = pd.read_csv(\"uk_pm.csv\")"
   ]
  },
  {
   "cell_type": "code",
   "execution_count": 7,
   "id": "98d88d8a-250a-4f80-92c2-bad902c1e48e",
   "metadata": {},
   "outputs": [
    {
     "data": {
      "text/html": [
       "<div>\n",
       "<style scoped>\n",
       "    .dataframe tbody tr th:only-of-type {\n",
       "        vertical-align: middle;\n",
       "    }\n",
       "\n",
       "    .dataframe tbody tr th {\n",
       "        vertical-align: top;\n",
       "    }\n",
       "\n",
       "    .dataframe thead th {\n",
       "        text-align: right;\n",
       "    }\n",
       "</style>\n",
       "<table border=\"1\" class=\"dataframe\">\n",
       "  <thead>\n",
       "    <tr style=\"text-align: right;\">\n",
       "      <th></th>\n",
       "      <th>id</th>\n",
       "      <th>text</th>\n",
       "      <th>username</th>\n",
       "      <th>hashtags</th>\n",
       "      <th>created_at</th>\n",
       "      <th>user followers count</th>\n",
       "      <th>replycount</th>\n",
       "      <th>retweetcount</th>\n",
       "      <th>likecount</th>\n",
       "      <th>quotecount</th>\n",
       "      <th>language</th>\n",
       "      <th>quotedtweet</th>\n",
       "      <th>inReplyToTweetId</th>\n",
       "      <th>inReplyToUser</th>\n",
       "      <th>mentionedUsers</th>\n",
       "    </tr>\n",
       "  </thead>\n",
       "  <tbody>\n",
       "    <tr>\n",
       "      <th>113573</th>\n",
       "      <td>1584553348736421888</td>\n",
       "      <td>@JackBarbour_ @piersmorgan @RishiSunak The man...</td>\n",
       "      <td>aqeelone22</td>\n",
       "      <td>NaN</td>\n",
       "      <td>2022-10-24 14:32:12+00:00</td>\n",
       "      <td>1162</td>\n",
       "      <td>0</td>\n",
       "      <td>0</td>\n",
       "      <td>0</td>\n",
       "      <td>0</td>\n",
       "      <td>en</td>\n",
       "      <td>NaN</td>\n",
       "      <td>1.584532e+18</td>\n",
       "      <td>https://twitter.com/JackBarbour_</td>\n",
       "      <td>@JackBarbour_ @piersmorgan @RishiSunak The man...</td>\n",
       "    </tr>\n",
       "    <tr>\n",
       "      <th>113574</th>\n",
       "      <td>1584553348677525505</td>\n",
       "      <td>@Jacob_Rees_Mogg @RishiSunak Let's hope you're...</td>\n",
       "      <td>EddieThornley</td>\n",
       "      <td>NaN</td>\n",
       "      <td>2022-10-24 14:32:12+00:00</td>\n",
       "      <td>97</td>\n",
       "      <td>0</td>\n",
       "      <td>0</td>\n",
       "      <td>0</td>\n",
       "      <td>0</td>\n",
       "      <td>en</td>\n",
       "      <td>NaN</td>\n",
       "      <td>1.584539e+18</td>\n",
       "      <td>https://twitter.com/Jacob_Rees_Mogg</td>\n",
       "      <td>@Jacob_Rees_Mogg @RishiSunak Let's hope you're...</td>\n",
       "    </tr>\n",
       "    <tr>\n",
       "      <th>113575</th>\n",
       "      <td>1584553348597895168</td>\n",
       "      <td>@sajidjavid @RishiSunak Desperate call for a d...</td>\n",
       "      <td>pedleysjohn</td>\n",
       "      <td>['ToriesUnfitToGovern']</td>\n",
       "      <td>2022-10-24 14:32:12+00:00</td>\n",
       "      <td>2484</td>\n",
       "      <td>0</td>\n",
       "      <td>0</td>\n",
       "      <td>0</td>\n",
       "      <td>0</td>\n",
       "      <td>en</td>\n",
       "      <td>NaN</td>\n",
       "      <td>1.584401e+18</td>\n",
       "      <td>https://twitter.com/sajidjavid</td>\n",
       "      <td>@sajidjavid @RishiSunak Desperate call for a d...</td>\n",
       "    </tr>\n",
       "    <tr>\n",
       "      <th>113576</th>\n",
       "      <td>1584553348132397056</td>\n",
       "      <td>@SkyNews Rulling Party needs a strong oppositi...</td>\n",
       "      <td>KarobiVC</td>\n",
       "      <td>NaN</td>\n",
       "      <td>2022-10-24 14:32:12+00:00</td>\n",
       "      <td>392</td>\n",
       "      <td>0</td>\n",
       "      <td>0</td>\n",
       "      <td>0</td>\n",
       "      <td>0</td>\n",
       "      <td>en</td>\n",
       "      <td>NaN</td>\n",
       "      <td>1.584512e+18</td>\n",
       "      <td>https://twitter.com/SkyNews</td>\n",
       "      <td>@SkyNews Rulling Party needs a strong oppositi...</td>\n",
       "    </tr>\n",
       "    <tr>\n",
       "      <th>113577</th>\n",
       "      <td>1584553347998105600</td>\n",
       "      <td>@trussliz @RishiSunak Liz Truss has won the ma...</td>\n",
       "      <td>sands_hill</td>\n",
       "      <td>NaN</td>\n",
       "      <td>2022-10-24 14:32:12+00:00</td>\n",
       "      <td>4</td>\n",
       "      <td>0</td>\n",
       "      <td>0</td>\n",
       "      <td>0</td>\n",
       "      <td>0</td>\n",
       "      <td>en</td>\n",
       "      <td>NaN</td>\n",
       "      <td>1.584546e+18</td>\n",
       "      <td>https://twitter.com/trussliz</td>\n",
       "      <td>@trussliz @RishiSunak Liz Truss has won the ma...</td>\n",
       "    </tr>\n",
       "  </tbody>\n",
       "</table>\n",
       "</div>"
      ],
      "text/plain": [
       "                         id  \\\n",
       "113573  1584553348736421888   \n",
       "113574  1584553348677525505   \n",
       "113575  1584553348597895168   \n",
       "113576  1584553348132397056   \n",
       "113577  1584553347998105600   \n",
       "\n",
       "                                                     text       username  \\\n",
       "113573  @JackBarbour_ @piersmorgan @RishiSunak The man...     aqeelone22   \n",
       "113574  @Jacob_Rees_Mogg @RishiSunak Let's hope you're...  EddieThornley   \n",
       "113575  @sajidjavid @RishiSunak Desperate call for a d...    pedleysjohn   \n",
       "113576  @SkyNews Rulling Party needs a strong oppositi...       KarobiVC   \n",
       "113577  @trussliz @RishiSunak Liz Truss has won the ma...     sands_hill   \n",
       "\n",
       "                       hashtags                 created_at  \\\n",
       "113573                      NaN  2022-10-24 14:32:12+00:00   \n",
       "113574                      NaN  2022-10-24 14:32:12+00:00   \n",
       "113575  ['ToriesUnfitToGovern']  2022-10-24 14:32:12+00:00   \n",
       "113576                      NaN  2022-10-24 14:32:12+00:00   \n",
       "113577                      NaN  2022-10-24 14:32:12+00:00   \n",
       "\n",
       "        user followers count  replycount  retweetcount  likecount  quotecount  \\\n",
       "113573                  1162           0             0          0           0   \n",
       "113574                    97           0             0          0           0   \n",
       "113575                  2484           0             0          0           0   \n",
       "113576                   392           0             0          0           0   \n",
       "113577                     4           0             0          0           0   \n",
       "\n",
       "       language  quotedtweet  inReplyToTweetId  \\\n",
       "113573       en          NaN      1.584532e+18   \n",
       "113574       en          NaN      1.584539e+18   \n",
       "113575       en          NaN      1.584401e+18   \n",
       "113576       en          NaN      1.584512e+18   \n",
       "113577       en          NaN      1.584546e+18   \n",
       "\n",
       "                              inReplyToUser  \\\n",
       "113573     https://twitter.com/JackBarbour_   \n",
       "113574  https://twitter.com/Jacob_Rees_Mogg   \n",
       "113575       https://twitter.com/sajidjavid   \n",
       "113576          https://twitter.com/SkyNews   \n",
       "113577         https://twitter.com/trussliz   \n",
       "\n",
       "                                           mentionedUsers  \n",
       "113573  @JackBarbour_ @piersmorgan @RishiSunak The man...  \n",
       "113574  @Jacob_Rees_Mogg @RishiSunak Let's hope you're...  \n",
       "113575  @sajidjavid @RishiSunak Desperate call for a d...  \n",
       "113576  @SkyNews Rulling Party needs a strong oppositi...  \n",
       "113577  @trussliz @RishiSunak Liz Truss has won the ma...  "
      ]
     },
     "execution_count": 7,
     "metadata": {},
     "output_type": "execute_result"
    }
   ],
   "source": [
    "data.tail()"
   ]
  },
  {
   "cell_type": "markdown",
   "id": "4654ca0c-99b4-4a52-9a67-f8f90a111852",
   "metadata": {},
   "source": [
    "### removing data that has no influence "
   ]
  },
  {
   "cell_type": "code",
   "execution_count": 44,
   "id": "a7a77311-be5d-4def-9c4b-74c70b5a3326",
   "metadata": {},
   "outputs": [],
   "source": [
    "data = data[data['likecount'] > 1]"
   ]
  },
  {
   "cell_type": "code",
   "execution_count": 46,
   "id": "386d2a3c-1104-4fff-9cde-1eacedc7920c",
   "metadata": {},
   "outputs": [
    {
     "data": {
      "text/plain": [
       "335130"
      ]
     },
     "execution_count": 46,
     "metadata": {},
     "output_type": "execute_result"
    }
   ],
   "source": [
    "data.size"
   ]
  },
  {
   "cell_type": "code",
   "execution_count": 47,
   "id": "789b26e9-4279-4c83-a7fb-f0959677d6df",
   "metadata": {},
   "outputs": [],
   "source": [
    "data = data[data[\"language\"] == \"en\"]"
   ]
  },
  {
   "cell_type": "code",
   "execution_count": 48,
   "id": "0ac3311c-956e-466d-8e0e-a556dddacde8",
   "metadata": {},
   "outputs": [
    {
     "data": {
      "text/plain": [
       "289875"
      ]
     },
     "execution_count": 48,
     "metadata": {},
     "output_type": "execute_result"
    }
   ],
   "source": [
    "data.size"
   ]
  },
  {
   "cell_type": "code",
   "execution_count": 49,
   "id": "78bb82bb-ffc6-4544-97fb-947564b0c1c1",
   "metadata": {},
   "outputs": [
    {
     "data": {
      "text/html": [
       "<div>\n",
       "<style scoped>\n",
       "    .dataframe tbody tr th:only-of-type {\n",
       "        vertical-align: middle;\n",
       "    }\n",
       "\n",
       "    .dataframe tbody tr th {\n",
       "        vertical-align: top;\n",
       "    }\n",
       "\n",
       "    .dataframe thead th {\n",
       "        text-align: right;\n",
       "    }\n",
       "</style>\n",
       "<table border=\"1\" class=\"dataframe\">\n",
       "  <thead>\n",
       "    <tr style=\"text-align: right;\">\n",
       "      <th></th>\n",
       "      <th>id</th>\n",
       "      <th>text</th>\n",
       "      <th>username</th>\n",
       "      <th>hashtags</th>\n",
       "      <th>created_at</th>\n",
       "      <th>user followers count</th>\n",
       "      <th>replycount</th>\n",
       "      <th>retweetcount</th>\n",
       "      <th>likecount</th>\n",
       "      <th>quotecount</th>\n",
       "      <th>language</th>\n",
       "      <th>quotedtweet</th>\n",
       "      <th>inReplyToTweetId</th>\n",
       "      <th>inReplyToUser</th>\n",
       "      <th>mentionedUsers</th>\n",
       "    </tr>\n",
       "  </thead>\n",
       "  <tbody>\n",
       "    <tr>\n",
       "      <th>1</th>\n",
       "      <td>1584696057841098752</td>\n",
       "      <td>#RishiSunak is the richest Tory MP in history....</td>\n",
       "      <td>AdameMedia</td>\n",
       "      <td>['RishiSunak']</td>\n",
       "      <td>2022-10-24 23:59:17+00:00</td>\n",
       "      <td>9830</td>\n",
       "      <td>3</td>\n",
       "      <td>23</td>\n",
       "      <td>68</td>\n",
       "      <td>4</td>\n",
       "      <td>en</td>\n",
       "      <td>NaN</td>\n",
       "      <td>NaN</td>\n",
       "      <td>NaN</td>\n",
       "      <td>#RishiSunak is the richest Tory MP in history....</td>\n",
       "    </tr>\n",
       "    <tr>\n",
       "      <th>9</th>\n",
       "      <td>1584694437695090689</td>\n",
       "      <td>Time Wheel - Now It's an Indian to Look after ...</td>\n",
       "      <td>steemflow</td>\n",
       "      <td>['RishiSunakPM', 'RishiSunak', 'election', 'In...</td>\n",
       "      <td>2022-10-24 23:52:50+00:00</td>\n",
       "      <td>505</td>\n",
       "      <td>0</td>\n",
       "      <td>0</td>\n",
       "      <td>2</td>\n",
       "      <td>0</td>\n",
       "      <td>en</td>\n",
       "      <td>NaN</td>\n",
       "      <td>NaN</td>\n",
       "      <td>NaN</td>\n",
       "      <td>Time Wheel - Now It's an Indian to Look after ...</td>\n",
       "    </tr>\n",
       "    <tr>\n",
       "      <th>12</th>\n",
       "      <td>1584692706101657602</td>\n",
       "      <td>#RishiSunak \\nLove the way Pakistanis are clai...</td>\n",
       "      <td>rkbnow</td>\n",
       "      <td>['RishiSunak']</td>\n",
       "      <td>2022-10-24 23:45:57+00:00</td>\n",
       "      <td>6847</td>\n",
       "      <td>0</td>\n",
       "      <td>1</td>\n",
       "      <td>2</td>\n",
       "      <td>0</td>\n",
       "      <td>en</td>\n",
       "      <td>NaN</td>\n",
       "      <td>NaN</td>\n",
       "      <td>NaN</td>\n",
       "      <td>#RishiSunak \\nLove the way Pakistanis are clai...</td>\n",
       "    </tr>\n",
       "    <tr>\n",
       "      <th>24</th>\n",
       "      <td>1584691299244208128</td>\n",
       "      <td>@denisefortru @Melissa5857 @ConsPost #RishiSun...</td>\n",
       "      <td>Gicmcp</td>\n",
       "      <td>['RishiSunak', 'SunakOut']</td>\n",
       "      <td>2022-10-24 23:40:22+00:00</td>\n",
       "      <td>2420</td>\n",
       "      <td>0</td>\n",
       "      <td>0</td>\n",
       "      <td>2</td>\n",
       "      <td>0</td>\n",
       "      <td>en</td>\n",
       "      <td>NaN</td>\n",
       "      <td>1.584681e+18</td>\n",
       "      <td>https://twitter.com/denisefortru</td>\n",
       "      <td>@denisefortru @Melissa5857 @ConsPost #RishiSun...</td>\n",
       "    </tr>\n",
       "    <tr>\n",
       "      <th>26</th>\n",
       "      <td>1584691162224676865</td>\n",
       "      <td>@BBCNews This spiv was sat in No 11 throughout...</td>\n",
       "      <td>OssieTwickers</td>\n",
       "      <td>['RishiSunak', 'NoMandateSunak', 'GeneralElect...</td>\n",
       "      <td>2022-10-24 23:39:49+00:00</td>\n",
       "      <td>1822</td>\n",
       "      <td>1</td>\n",
       "      <td>0</td>\n",
       "      <td>5</td>\n",
       "      <td>0</td>\n",
       "      <td>en</td>\n",
       "      <td>NaN</td>\n",
       "      <td>1.584665e+18</td>\n",
       "      <td>https://twitter.com/BBCNews</td>\n",
       "      <td>@BBCNews This spiv was sat in No 11 throughout...</td>\n",
       "    </tr>\n",
       "  </tbody>\n",
       "</table>\n",
       "</div>"
      ],
      "text/plain": [
       "                     id                                               text  \\\n",
       "1   1584696057841098752  #RishiSunak is the richest Tory MP in history....   \n",
       "9   1584694437695090689  Time Wheel - Now It's an Indian to Look after ...   \n",
       "12  1584692706101657602  #RishiSunak \\nLove the way Pakistanis are clai...   \n",
       "24  1584691299244208128  @denisefortru @Melissa5857 @ConsPost #RishiSun...   \n",
       "26  1584691162224676865  @BBCNews This spiv was sat in No 11 throughout...   \n",
       "\n",
       "         username                                           hashtags  \\\n",
       "1      AdameMedia                                     ['RishiSunak']   \n",
       "9       steemflow  ['RishiSunakPM', 'RishiSunak', 'election', 'In...   \n",
       "12         rkbnow                                     ['RishiSunak']   \n",
       "24         Gicmcp                         ['RishiSunak', 'SunakOut']   \n",
       "26  OssieTwickers  ['RishiSunak', 'NoMandateSunak', 'GeneralElect...   \n",
       "\n",
       "                   created_at  user followers count  replycount  retweetcount  \\\n",
       "1   2022-10-24 23:59:17+00:00                  9830           3            23   \n",
       "9   2022-10-24 23:52:50+00:00                   505           0             0   \n",
       "12  2022-10-24 23:45:57+00:00                  6847           0             1   \n",
       "24  2022-10-24 23:40:22+00:00                  2420           0             0   \n",
       "26  2022-10-24 23:39:49+00:00                  1822           1             0   \n",
       "\n",
       "    likecount  quotecount language  quotedtweet  inReplyToTweetId  \\\n",
       "1          68           4       en          NaN               NaN   \n",
       "9           2           0       en          NaN               NaN   \n",
       "12          2           0       en          NaN               NaN   \n",
       "24          2           0       en          NaN      1.584681e+18   \n",
       "26          5           0       en          NaN      1.584665e+18   \n",
       "\n",
       "                       inReplyToUser  \\\n",
       "1                                NaN   \n",
       "9                                NaN   \n",
       "12                               NaN   \n",
       "24  https://twitter.com/denisefortru   \n",
       "26       https://twitter.com/BBCNews   \n",
       "\n",
       "                                       mentionedUsers  \n",
       "1   #RishiSunak is the richest Tory MP in history....  \n",
       "9   Time Wheel - Now It's an Indian to Look after ...  \n",
       "12  #RishiSunak \\nLove the way Pakistanis are clai...  \n",
       "24  @denisefortru @Melissa5857 @ConsPost #RishiSun...  \n",
       "26  @BBCNews This spiv was sat in No 11 throughout...  "
      ]
     },
     "execution_count": 49,
     "metadata": {},
     "output_type": "execute_result"
    }
   ],
   "source": [
    "data.head()"
   ]
  },
  {
   "cell_type": "code",
   "execution_count": 41,
   "id": "9884fc3b-54db-40c3-8a8a-a0ae96cee9cd",
   "metadata": {},
   "outputs": [
    {
     "data": {
      "text/plain": [
       "335130"
      ]
     },
     "execution_count": 41,
     "metadata": {},
     "output_type": "execute_result"
    }
   ],
   "source": [
    "data.size"
   ]
  },
  {
   "cell_type": "code",
   "execution_count": 8,
   "id": "3c4618f3-d51e-4ad6-97de-1cf95655c5f5",
   "metadata": {},
   "outputs": [
    {
     "data": {
      "text/plain": [
       "86621"
      ]
     },
     "execution_count": 8,
     "metadata": {},
     "output_type": "execute_result"
    }
   ],
   "source": [
    "data.hashtags.isna().sum()"
   ]
  },
  {
   "cell_type": "code",
   "execution_count": 12,
   "id": "dabc972c-a932-4968-8082-a9e06b27703f",
   "metadata": {},
   "outputs": [
    {
     "data": {
      "text/plain": [
       "96134"
      ]
     },
     "execution_count": 12,
     "metadata": {},
     "output_type": "execute_result"
    }
   ],
   "source": [
    "data[\"user followers count\"].idxmax()"
   ]
  },
  {
   "cell_type": "code",
   "execution_count": 13,
   "id": "577325d4-e034-4cf4-b69b-e3bbc63746de",
   "metadata": {},
   "outputs": [
    {
     "data": {
      "text/plain": [
       "96134"
      ]
     },
     "execution_count": 13,
     "metadata": {},
     "output_type": "execute_result"
    }
   ],
   "source": [
    "import numpy as np\n",
    "\n",
    "np.argmax(data[\"user followers count\"])"
   ]
  },
  {
   "cell_type": "code",
   "execution_count": 9,
   "id": "fea70442-72b8-4545-82fa-469dc8444aef",
   "metadata": {},
   "outputs": [
    {
     "data": {
      "text/plain": [
       "97993"
      ]
     },
     "execution_count": 9,
     "metadata": {},
     "output_type": "execute_result"
    }
   ],
   "source": [
    "86621 + 11372"
   ]
  },
  {
   "cell_type": "code",
   "execution_count": 5,
   "id": "b69bd450-7e9e-4b2a-8b8f-f482aaaf7ab8",
   "metadata": {},
   "outputs": [
    {
     "data": {
      "text/plain": [
       "11372"
      ]
     },
     "execution_count": 5,
     "metadata": {},
     "output_type": "execute_result"
    }
   ],
   "source": [
    "data.hashtags.nunique()"
   ]
  },
  {
   "cell_type": "code",
   "execution_count": 14,
   "id": "494cc98e-fae9-44a3-9c78-03a0d6f325ac",
   "metadata": {},
   "outputs": [
    {
     "data": {
      "text/plain": [
       "76977"
      ]
     },
     "execution_count": 14,
     "metadata": {},
     "output_type": "execute_result"
    }
   ],
   "source": [
    "data.username.nunique()"
   ]
  },
  {
   "cell_type": "code",
   "execution_count": 6,
   "id": "818b0ce9-22bd-4bf7-ba52-0400e44bcfd2",
   "metadata": {},
   "outputs": [
    {
     "data": {
      "text/plain": [
       "(113578, 15)"
      ]
     },
     "execution_count": 6,
     "metadata": {},
     "output_type": "execute_result"
    }
   ],
   "source": [
    "data.shape"
   ]
  },
  {
   "cell_type": "code",
   "execution_count": 50,
   "id": "6e455673-4c30-477b-982e-d9b900f3ff51",
   "metadata": {},
   "outputs": [
    {
     "data": {
      "text/plain": [
       "id                        int64\n",
       "text                     object\n",
       "username                 object\n",
       "hashtags                 object\n",
       "created_at               object\n",
       "user followers count      int64\n",
       "replycount                int64\n",
       "retweetcount              int64\n",
       "likecount                 int64\n",
       "quotecount                int64\n",
       "language                 object\n",
       "quotedtweet             float64\n",
       "inReplyToTweetId        float64\n",
       "inReplyToUser            object\n",
       "mentionedUsers           object\n",
       "dtype: object"
      ]
     },
     "execution_count": 50,
     "metadata": {},
     "output_type": "execute_result"
    }
   ],
   "source": [
    "data.dtypes"
   ]
  },
  {
   "cell_type": "code",
   "execution_count": null,
   "id": "ab32553c-c5c2-4913-8a15-57db84c7994f",
   "metadata": {},
   "outputs": [],
   "source": []
  }
 ],
 "metadata": {
  "kernelspec": {
   "display_name": "Python 3",
   "language": "python",
   "name": "python3"
  },
  "language_info": {
   "codemirror_mode": {
    "name": "ipython",
    "version": 3
   },
   "file_extension": ".py",
   "mimetype": "text/x-python",
   "name": "python",
   "nbconvert_exporter": "python",
   "pygments_lexer": "ipython3",
   "version": "3.8.8"
  }
 },
 "nbformat": 4,
 "nbformat_minor": 5
}
